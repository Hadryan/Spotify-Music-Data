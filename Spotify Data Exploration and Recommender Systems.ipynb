{
 "cells": [
  {
   "cell_type": "markdown",
   "metadata": {},
   "source": [
    "# Spotify Music Data Exploration and Recommender Systems Machine Learning"
   ]
  },
  {
   "cell_type": "markdown",
   "metadata": {},
   "source": [
    "<b>“Music gives a soul to the universe, wings to the mind, flight to the imagination, and life to everything.” – Plato </b>\n",
    "\n",
    "Music has been a huge part of my life even from when I was as little as 5 years old. From weekly piano lessons to listening to the radio, it is something that has shaped my upbringing and continues to be a big part of my life every day. \n",
    "\n",
    "However, no matter how much I study music, there are always questions that just cannot be answered without having skills beyond music. Skills like data analysis, visualizations, and machine learning. \n",
    "\n",
    "Questions like: \n",
    "- What are the most popular songs? \n",
    "- What makes a song unique? \n",
    "- How do we find songs that are similar to those we already like? \n",
    "\n",
    "The goal of this project is to practice EDA on a musical dataset to analyze trends, create recommendation systems for songs, and answer some of the questions I personally had."
   ]
  },
  {
   "cell_type": "markdown",
   "metadata": {},
   "source": [
    "## Imports and Reading in Data"
   ]
  },
  {
   "cell_type": "code",
   "execution_count": 1,
   "metadata": {},
   "outputs": [],
   "source": [
    "# Data Science\n",
    "\n",
    "import numpy as np\n",
    "import pandas as pd\n",
    "import matplotlib.pyplot as plt\n",
    "import seaborn as sns\n",
    "%matplotlib inline\n",
    "\n",
    "# Machine Learning\n",
    "from sklearn.model_selection import train_test_split\n",
    "from sklearn.preprocessing import MinMaxScaler"
   ]
  },
  {
   "cell_type": "code",
   "execution_count": 2,
   "metadata": {},
   "outputs": [
    {
     "name": "stdout",
     "output_type": "stream",
     "text": [
      "<class 'pandas.core.frame.DataFrame'>\n",
      "RangeIndex: 169909 entries, 0 to 169908\n",
      "Data columns (total 19 columns):\n",
      " #   Column            Non-Null Count   Dtype  \n",
      "---  ------            --------------   -----  \n",
      " 0   acousticness      169909 non-null  float64\n",
      " 1   artists           169909 non-null  object \n",
      " 2   danceability      169909 non-null  float64\n",
      " 3   duration_ms       169909 non-null  int64  \n",
      " 4   energy            169909 non-null  float64\n",
      " 5   explicit          169909 non-null  int64  \n",
      " 6   id                169909 non-null  object \n",
      " 7   instrumentalness  169909 non-null  float64\n",
      " 8   key               169909 non-null  int64  \n",
      " 9   liveness          169909 non-null  float64\n",
      " 10  loudness          169909 non-null  float64\n",
      " 11  mode              169909 non-null  int64  \n",
      " 12  name              169909 non-null  object \n",
      " 13  popularity        169909 non-null  int64  \n",
      " 14  release_date      169909 non-null  object \n",
      " 15  speechiness       169909 non-null  float64\n",
      " 16  tempo             169909 non-null  float64\n",
      " 17  valence           169909 non-null  float64\n",
      " 18  year              169909 non-null  int64  \n",
      "dtypes: float64(9), int64(6), object(4)\n",
      "memory usage: 24.6+ MB\n"
     ]
    }
   ],
   "source": [
    "df = pd.read_csv('data.csv')\n",
    "df.info()\n"
   ]
  },
  {
   "cell_type": "code",
   "execution_count": 3,
   "metadata": {},
   "outputs": [
    {
     "data": {
      "text/html": [
       "<div>\n",
       "<style scoped>\n",
       "    .dataframe tbody tr th:only-of-type {\n",
       "        vertical-align: middle;\n",
       "    }\n",
       "\n",
       "    .dataframe tbody tr th {\n",
       "        vertical-align: top;\n",
       "    }\n",
       "\n",
       "    .dataframe thead th {\n",
       "        text-align: right;\n",
       "    }\n",
       "</style>\n",
       "<table border=\"1\" class=\"dataframe\">\n",
       "  <thead>\n",
       "    <tr style=\"text-align: right;\">\n",
       "      <th></th>\n",
       "      <th>acousticness</th>\n",
       "      <th>danceability</th>\n",
       "      <th>duration_ms</th>\n",
       "      <th>energy</th>\n",
       "      <th>explicit</th>\n",
       "      <th>instrumentalness</th>\n",
       "      <th>key</th>\n",
       "      <th>liveness</th>\n",
       "      <th>loudness</th>\n",
       "      <th>mode</th>\n",
       "      <th>popularity</th>\n",
       "      <th>speechiness</th>\n",
       "      <th>tempo</th>\n",
       "      <th>valence</th>\n",
       "      <th>year</th>\n",
       "    </tr>\n",
       "  </thead>\n",
       "  <tbody>\n",
       "    <tr>\n",
       "      <th>count</th>\n",
       "      <td>169909.000000</td>\n",
       "      <td>169909.000000</td>\n",
       "      <td>1.699090e+05</td>\n",
       "      <td>169909.000000</td>\n",
       "      <td>169909.000000</td>\n",
       "      <td>169909.000000</td>\n",
       "      <td>169909.000000</td>\n",
       "      <td>169909.000000</td>\n",
       "      <td>169909.000000</td>\n",
       "      <td>169909.000000</td>\n",
       "      <td>169909.000000</td>\n",
       "      <td>169909.000000</td>\n",
       "      <td>169909.000000</td>\n",
       "      <td>169909.000000</td>\n",
       "      <td>169909.000000</td>\n",
       "    </tr>\n",
       "    <tr>\n",
       "      <th>mean</th>\n",
       "      <td>0.493214</td>\n",
       "      <td>0.538150</td>\n",
       "      <td>2.314062e+05</td>\n",
       "      <td>0.488593</td>\n",
       "      <td>0.084863</td>\n",
       "      <td>0.161937</td>\n",
       "      <td>5.200519</td>\n",
       "      <td>0.206690</td>\n",
       "      <td>-11.370289</td>\n",
       "      <td>0.708556</td>\n",
       "      <td>31.556610</td>\n",
       "      <td>0.094058</td>\n",
       "      <td>116.948017</td>\n",
       "      <td>0.532095</td>\n",
       "      <td>1977.223231</td>\n",
       "    </tr>\n",
       "    <tr>\n",
       "      <th>std</th>\n",
       "      <td>0.376627</td>\n",
       "      <td>0.175346</td>\n",
       "      <td>1.213219e+05</td>\n",
       "      <td>0.267390</td>\n",
       "      <td>0.278679</td>\n",
       "      <td>0.309329</td>\n",
       "      <td>3.515257</td>\n",
       "      <td>0.176796</td>\n",
       "      <td>5.666765</td>\n",
       "      <td>0.454429</td>\n",
       "      <td>21.582614</td>\n",
       "      <td>0.149937</td>\n",
       "      <td>30.726937</td>\n",
       "      <td>0.262408</td>\n",
       "      <td>25.593168</td>\n",
       "    </tr>\n",
       "    <tr>\n",
       "      <th>min</th>\n",
       "      <td>0.000000</td>\n",
       "      <td>0.000000</td>\n",
       "      <td>5.108000e+03</td>\n",
       "      <td>0.000000</td>\n",
       "      <td>0.000000</td>\n",
       "      <td>0.000000</td>\n",
       "      <td>0.000000</td>\n",
       "      <td>0.000000</td>\n",
       "      <td>-60.000000</td>\n",
       "      <td>0.000000</td>\n",
       "      <td>0.000000</td>\n",
       "      <td>0.000000</td>\n",
       "      <td>0.000000</td>\n",
       "      <td>0.000000</td>\n",
       "      <td>1921.000000</td>\n",
       "    </tr>\n",
       "    <tr>\n",
       "      <th>25%</th>\n",
       "      <td>0.094500</td>\n",
       "      <td>0.417000</td>\n",
       "      <td>1.710400e+05</td>\n",
       "      <td>0.263000</td>\n",
       "      <td>0.000000</td>\n",
       "      <td>0.000000</td>\n",
       "      <td>2.000000</td>\n",
       "      <td>0.098400</td>\n",
       "      <td>-14.470000</td>\n",
       "      <td>0.000000</td>\n",
       "      <td>12.000000</td>\n",
       "      <td>0.034900</td>\n",
       "      <td>93.516000</td>\n",
       "      <td>0.322000</td>\n",
       "      <td>1957.000000</td>\n",
       "    </tr>\n",
       "    <tr>\n",
       "      <th>50%</th>\n",
       "      <td>0.492000</td>\n",
       "      <td>0.548000</td>\n",
       "      <td>2.086000e+05</td>\n",
       "      <td>0.481000</td>\n",
       "      <td>0.000000</td>\n",
       "      <td>0.000204</td>\n",
       "      <td>5.000000</td>\n",
       "      <td>0.135000</td>\n",
       "      <td>-10.474000</td>\n",
       "      <td>1.000000</td>\n",
       "      <td>33.000000</td>\n",
       "      <td>0.045000</td>\n",
       "      <td>114.778000</td>\n",
       "      <td>0.544000</td>\n",
       "      <td>1978.000000</td>\n",
       "    </tr>\n",
       "    <tr>\n",
       "      <th>75%</th>\n",
       "      <td>0.888000</td>\n",
       "      <td>0.667000</td>\n",
       "      <td>2.629600e+05</td>\n",
       "      <td>0.710000</td>\n",
       "      <td>0.000000</td>\n",
       "      <td>0.086800</td>\n",
       "      <td>8.000000</td>\n",
       "      <td>0.263000</td>\n",
       "      <td>-7.118000</td>\n",
       "      <td>1.000000</td>\n",
       "      <td>48.000000</td>\n",
       "      <td>0.075400</td>\n",
       "      <td>135.712000</td>\n",
       "      <td>0.749000</td>\n",
       "      <td>1999.000000</td>\n",
       "    </tr>\n",
       "    <tr>\n",
       "      <th>max</th>\n",
       "      <td>0.996000</td>\n",
       "      <td>0.988000</td>\n",
       "      <td>5.403500e+06</td>\n",
       "      <td>1.000000</td>\n",
       "      <td>1.000000</td>\n",
       "      <td>1.000000</td>\n",
       "      <td>11.000000</td>\n",
       "      <td>1.000000</td>\n",
       "      <td>3.855000</td>\n",
       "      <td>1.000000</td>\n",
       "      <td>100.000000</td>\n",
       "      <td>0.969000</td>\n",
       "      <td>244.091000</td>\n",
       "      <td>1.000000</td>\n",
       "      <td>2020.000000</td>\n",
       "    </tr>\n",
       "  </tbody>\n",
       "</table>\n",
       "</div>"
      ],
      "text/plain": [
       "        acousticness   danceability   duration_ms         energy  \\\n",
       "count  169909.000000  169909.000000  1.699090e+05  169909.000000   \n",
       "mean        0.493214       0.538150  2.314062e+05       0.488593   \n",
       "std         0.376627       0.175346  1.213219e+05       0.267390   \n",
       "min         0.000000       0.000000  5.108000e+03       0.000000   \n",
       "25%         0.094500       0.417000  1.710400e+05       0.263000   \n",
       "50%         0.492000       0.548000  2.086000e+05       0.481000   \n",
       "75%         0.888000       0.667000  2.629600e+05       0.710000   \n",
       "max         0.996000       0.988000  5.403500e+06       1.000000   \n",
       "\n",
       "            explicit  instrumentalness            key       liveness  \\\n",
       "count  169909.000000     169909.000000  169909.000000  169909.000000   \n",
       "mean        0.084863          0.161937       5.200519       0.206690   \n",
       "std         0.278679          0.309329       3.515257       0.176796   \n",
       "min         0.000000          0.000000       0.000000       0.000000   \n",
       "25%         0.000000          0.000000       2.000000       0.098400   \n",
       "50%         0.000000          0.000204       5.000000       0.135000   \n",
       "75%         0.000000          0.086800       8.000000       0.263000   \n",
       "max         1.000000          1.000000      11.000000       1.000000   \n",
       "\n",
       "            loudness           mode     popularity    speechiness  \\\n",
       "count  169909.000000  169909.000000  169909.000000  169909.000000   \n",
       "mean      -11.370289       0.708556      31.556610       0.094058   \n",
       "std         5.666765       0.454429      21.582614       0.149937   \n",
       "min       -60.000000       0.000000       0.000000       0.000000   \n",
       "25%       -14.470000       0.000000      12.000000       0.034900   \n",
       "50%       -10.474000       1.000000      33.000000       0.045000   \n",
       "75%        -7.118000       1.000000      48.000000       0.075400   \n",
       "max         3.855000       1.000000     100.000000       0.969000   \n",
       "\n",
       "               tempo        valence           year  \n",
       "count  169909.000000  169909.000000  169909.000000  \n",
       "mean      116.948017       0.532095    1977.223231  \n",
       "std        30.726937       0.262408      25.593168  \n",
       "min         0.000000       0.000000    1921.000000  \n",
       "25%        93.516000       0.322000    1957.000000  \n",
       "50%       114.778000       0.544000    1978.000000  \n",
       "75%       135.712000       0.749000    1999.000000  \n",
       "max       244.091000       1.000000    2020.000000  "
      ]
     },
     "execution_count": 3,
     "metadata": {},
     "output_type": "execute_result"
    }
   ],
   "source": [
    "df.describe()"
   ]
  },
  {
   "cell_type": "code",
   "execution_count": 4,
   "metadata": {
    "scrolled": false
   },
   "outputs": [
    {
     "data": {
      "text/html": [
       "<div>\n",
       "<style scoped>\n",
       "    .dataframe tbody tr th:only-of-type {\n",
       "        vertical-align: middle;\n",
       "    }\n",
       "\n",
       "    .dataframe tbody tr th {\n",
       "        vertical-align: top;\n",
       "    }\n",
       "\n",
       "    .dataframe thead th {\n",
       "        text-align: right;\n",
       "    }\n",
       "</style>\n",
       "<table border=\"1\" class=\"dataframe\">\n",
       "  <thead>\n",
       "    <tr style=\"text-align: right;\">\n",
       "      <th></th>\n",
       "      <th>acousticness</th>\n",
       "      <th>artists</th>\n",
       "      <th>danceability</th>\n",
       "      <th>duration_ms</th>\n",
       "      <th>energy</th>\n",
       "      <th>explicit</th>\n",
       "      <th>id</th>\n",
       "      <th>instrumentalness</th>\n",
       "      <th>key</th>\n",
       "      <th>liveness</th>\n",
       "      <th>loudness</th>\n",
       "      <th>mode</th>\n",
       "      <th>name</th>\n",
       "      <th>popularity</th>\n",
       "      <th>release_date</th>\n",
       "      <th>speechiness</th>\n",
       "      <th>tempo</th>\n",
       "      <th>valence</th>\n",
       "      <th>year</th>\n",
       "    </tr>\n",
       "  </thead>\n",
       "  <tbody>\n",
       "    <tr>\n",
       "      <th>0</th>\n",
       "      <td>0.995</td>\n",
       "      <td>['Carl Woitschach']</td>\n",
       "      <td>0.708</td>\n",
       "      <td>158648</td>\n",
       "      <td>0.1950</td>\n",
       "      <td>0</td>\n",
       "      <td>6KbQ3uYMLKb5jDxLF7wYDD</td>\n",
       "      <td>0.563</td>\n",
       "      <td>10</td>\n",
       "      <td>0.1510</td>\n",
       "      <td>-12.428</td>\n",
       "      <td>1</td>\n",
       "      <td>Singende Bataillone 1. Teil</td>\n",
       "      <td>0</td>\n",
       "      <td>1928</td>\n",
       "      <td>0.0506</td>\n",
       "      <td>118.469</td>\n",
       "      <td>0.7790</td>\n",
       "      <td>1928</td>\n",
       "    </tr>\n",
       "    <tr>\n",
       "      <th>1</th>\n",
       "      <td>0.994</td>\n",
       "      <td>['Robert Schumann', 'Vladimir Horowitz']</td>\n",
       "      <td>0.379</td>\n",
       "      <td>282133</td>\n",
       "      <td>0.0135</td>\n",
       "      <td>0</td>\n",
       "      <td>6KuQTIu1KoTTkLXKrwlLPV</td>\n",
       "      <td>0.901</td>\n",
       "      <td>8</td>\n",
       "      <td>0.0763</td>\n",
       "      <td>-28.454</td>\n",
       "      <td>1</td>\n",
       "      <td>Fantasiestücke, Op. 111: Più tosto lento</td>\n",
       "      <td>0</td>\n",
       "      <td>1928</td>\n",
       "      <td>0.0462</td>\n",
       "      <td>83.972</td>\n",
       "      <td>0.0767</td>\n",
       "      <td>1928</td>\n",
       "    </tr>\n",
       "    <tr>\n",
       "      <th>2</th>\n",
       "      <td>0.604</td>\n",
       "      <td>['Seweryn Goszczyński']</td>\n",
       "      <td>0.749</td>\n",
       "      <td>104300</td>\n",
       "      <td>0.2200</td>\n",
       "      <td>0</td>\n",
       "      <td>6L63VW0PibdM1HDSBoqnoM</td>\n",
       "      <td>0.000</td>\n",
       "      <td>5</td>\n",
       "      <td>0.1190</td>\n",
       "      <td>-19.924</td>\n",
       "      <td>0</td>\n",
       "      <td>Chapter 1.18 - Zamek kaniowski</td>\n",
       "      <td>0</td>\n",
       "      <td>1928</td>\n",
       "      <td>0.9290</td>\n",
       "      <td>107.177</td>\n",
       "      <td>0.8800</td>\n",
       "      <td>1928</td>\n",
       "    </tr>\n",
       "    <tr>\n",
       "      <th>3</th>\n",
       "      <td>0.995</td>\n",
       "      <td>['Francisco Canaro']</td>\n",
       "      <td>0.781</td>\n",
       "      <td>180760</td>\n",
       "      <td>0.1300</td>\n",
       "      <td>0</td>\n",
       "      <td>6M94FkXd15sOAOQYRnWPN8</td>\n",
       "      <td>0.887</td>\n",
       "      <td>1</td>\n",
       "      <td>0.1110</td>\n",
       "      <td>-14.734</td>\n",
       "      <td>0</td>\n",
       "      <td>Bebamos Juntos - Instrumental (Remasterizado)</td>\n",
       "      <td>0</td>\n",
       "      <td>1928-09-25</td>\n",
       "      <td>0.0926</td>\n",
       "      <td>108.003</td>\n",
       "      <td>0.7200</td>\n",
       "      <td>1928</td>\n",
       "    </tr>\n",
       "    <tr>\n",
       "      <th>4</th>\n",
       "      <td>0.990</td>\n",
       "      <td>['Frédéric Chopin', 'Vladimir Horowitz']</td>\n",
       "      <td>0.210</td>\n",
       "      <td>687733</td>\n",
       "      <td>0.2040</td>\n",
       "      <td>0</td>\n",
       "      <td>6N6tiFZ9vLTSOIxkj8qKrd</td>\n",
       "      <td>0.908</td>\n",
       "      <td>11</td>\n",
       "      <td>0.0980</td>\n",
       "      <td>-16.829</td>\n",
       "      <td>1</td>\n",
       "      <td>Polonaise-Fantaisie in A-Flat Major, Op. 61</td>\n",
       "      <td>1</td>\n",
       "      <td>1928</td>\n",
       "      <td>0.0424</td>\n",
       "      <td>62.149</td>\n",
       "      <td>0.0693</td>\n",
       "      <td>1928</td>\n",
       "    </tr>\n",
       "  </tbody>\n",
       "</table>\n",
       "</div>"
      ],
      "text/plain": [
       "   acousticness                                   artists  danceability  \\\n",
       "0         0.995                       ['Carl Woitschach']         0.708   \n",
       "1         0.994  ['Robert Schumann', 'Vladimir Horowitz']         0.379   \n",
       "2         0.604                   ['Seweryn Goszczyński']         0.749   \n",
       "3         0.995                      ['Francisco Canaro']         0.781   \n",
       "4         0.990  ['Frédéric Chopin', 'Vladimir Horowitz']         0.210   \n",
       "\n",
       "   duration_ms  energy  explicit                      id  instrumentalness  \\\n",
       "0       158648  0.1950         0  6KbQ3uYMLKb5jDxLF7wYDD             0.563   \n",
       "1       282133  0.0135         0  6KuQTIu1KoTTkLXKrwlLPV             0.901   \n",
       "2       104300  0.2200         0  6L63VW0PibdM1HDSBoqnoM             0.000   \n",
       "3       180760  0.1300         0  6M94FkXd15sOAOQYRnWPN8             0.887   \n",
       "4       687733  0.2040         0  6N6tiFZ9vLTSOIxkj8qKrd             0.908   \n",
       "\n",
       "   key  liveness  loudness  mode  \\\n",
       "0   10    0.1510   -12.428     1   \n",
       "1    8    0.0763   -28.454     1   \n",
       "2    5    0.1190   -19.924     0   \n",
       "3    1    0.1110   -14.734     0   \n",
       "4   11    0.0980   -16.829     1   \n",
       "\n",
       "                                            name  popularity release_date  \\\n",
       "0                    Singende Bataillone 1. Teil           0         1928   \n",
       "1       Fantasiestücke, Op. 111: Più tosto lento           0         1928   \n",
       "2                 Chapter 1.18 - Zamek kaniowski           0         1928   \n",
       "3  Bebamos Juntos - Instrumental (Remasterizado)           0   1928-09-25   \n",
       "4    Polonaise-Fantaisie in A-Flat Major, Op. 61           1         1928   \n",
       "\n",
       "   speechiness    tempo  valence  year  \n",
       "0       0.0506  118.469   0.7790  1928  \n",
       "1       0.0462   83.972   0.0767  1928  \n",
       "2       0.9290  107.177   0.8800  1928  \n",
       "3       0.0926  108.003   0.7200  1928  \n",
       "4       0.0424   62.149   0.0693  1928  "
      ]
     },
     "execution_count": 4,
     "metadata": {},
     "output_type": "execute_result"
    }
   ],
   "source": [
    "df.head()"
   ]
  },
  {
   "cell_type": "markdown",
   "metadata": {},
   "source": [
    "# 1. Exploratory Data Analysis (EDA)"
   ]
  },
  {
   "cell_type": "markdown",
   "metadata": {},
   "source": [
    "## 1.1 Data Cleaning"
   ]
  },
  {
   "cell_type": "markdown",
   "metadata": {},
   "source": [
    "Before we do any analysis, we have to clean up our data and check for missing values."
   ]
  },
  {
   "cell_type": "code",
   "execution_count": 5,
   "metadata": {},
   "outputs": [
    {
     "data": {
      "text/plain": [
       "<matplotlib.axes._subplots.AxesSubplot at 0x1a66e3e5ec8>"
      ]
     },
     "execution_count": 5,
     "metadata": {},
     "output_type": "execute_result"
    },
    {
     "data": {
      "image/png": "[encoded data removed]",
      "text/plain": [
       "<Figure size 432x288 with 2 Axes>"
      ]
     },
     "metadata": {
      "needs_background": "light"
     },
     "output_type": "display_data"
    }
   ],
   "source": [
    "sns.heatmap(df.isnull())"
   ]
  },
  {
   "cell_type": "markdown",
   "metadata": {},
   "source": [
    "From df.describe() we can see that the count of every column is the same, implying that there are no missing values. This is confirmed with the heatmap above, which shows that there are no null values in our data."
   ]
  },
  {
   "cell_type": "markdown",
   "metadata": {},
   "source": [
    "In our DataFrame, the artists' names are in the format of ['FirstName LastName', 'FirstName LastName']. There are a couple issues with this. \n",
    "\n",
    "1. While the artist names look like a list, they're actually strings.\n",
    "    - We must split them into lists\n",
    "2. The square brackets and single quotations marks are unnecessarry and clutter up the column.\n",
    "    - We must remove them\n",
    "3. Some songs have multiple artists, but they're clumped together into one entry. This can provide inaccurate data later on.\n",
    "    - We must separate it so that each artist is on its own row with the song"
   ]
  },
  {
   "cell_type": "code",
   "execution_count": 6,
   "metadata": {},
   "outputs": [
    {
     "data": {
      "text/html": [
       "<div>\n",
       "<style scoped>\n",
       "    .dataframe tbody tr th:only-of-type {\n",
       "        vertical-align: middle;\n",
       "    }\n",
       "\n",
       "    .dataframe tbody tr th {\n",
       "        vertical-align: top;\n",
       "    }\n",
       "\n",
       "    .dataframe thead th {\n",
       "        text-align: right;\n",
       "    }\n",
       "</style>\n",
       "<table border=\"1\" class=\"dataframe\">\n",
       "  <thead>\n",
       "    <tr style=\"text-align: right;\">\n",
       "      <th></th>\n",
       "      <th>acousticness</th>\n",
       "      <th>artists</th>\n",
       "      <th>danceability</th>\n",
       "      <th>duration_ms</th>\n",
       "      <th>energy</th>\n",
       "      <th>explicit</th>\n",
       "      <th>id</th>\n",
       "      <th>instrumentalness</th>\n",
       "      <th>key</th>\n",
       "      <th>liveness</th>\n",
       "      <th>loudness</th>\n",
       "      <th>mode</th>\n",
       "      <th>name</th>\n",
       "      <th>popularity</th>\n",
       "      <th>release_date</th>\n",
       "      <th>speechiness</th>\n",
       "      <th>tempo</th>\n",
       "      <th>valence</th>\n",
       "      <th>year</th>\n",
       "    </tr>\n",
       "  </thead>\n",
       "  <tbody>\n",
       "    <tr>\n",
       "      <th>0</th>\n",
       "      <td>0.9950</td>\n",
       "      <td>'Carl Woitschach'</td>\n",
       "      <td>0.708</td>\n",
       "      <td>158648</td>\n",
       "      <td>0.1950</td>\n",
       "      <td>0</td>\n",
       "      <td>6KbQ3uYMLKb5jDxLF7wYDD</td>\n",
       "      <td>0.56300</td>\n",
       "      <td>10</td>\n",
       "      <td>0.1510</td>\n",
       "      <td>-12.428</td>\n",
       "      <td>1</td>\n",
       "      <td>Singende Bataillone 1. Teil</td>\n",
       "      <td>0</td>\n",
       "      <td>1928</td>\n",
       "      <td>0.0506</td>\n",
       "      <td>118.469</td>\n",
       "      <td>0.7790</td>\n",
       "      <td>1928</td>\n",
       "    </tr>\n",
       "    <tr>\n",
       "      <th>1</th>\n",
       "      <td>0.9940</td>\n",
       "      <td>'Robert Schumann'</td>\n",
       "      <td>0.379</td>\n",
       "      <td>282133</td>\n",
       "      <td>0.0135</td>\n",
       "      <td>0</td>\n",
       "      <td>6KuQTIu1KoTTkLXKrwlLPV</td>\n",
       "      <td>0.90100</td>\n",
       "      <td>8</td>\n",
       "      <td>0.0763</td>\n",
       "      <td>-28.454</td>\n",
       "      <td>1</td>\n",
       "      <td>Fantasiestücke, Op. 111: Più tosto lento</td>\n",
       "      <td>0</td>\n",
       "      <td>1928</td>\n",
       "      <td>0.0462</td>\n",
       "      <td>83.972</td>\n",
       "      <td>0.0767</td>\n",
       "      <td>1928</td>\n",
       "    </tr>\n",
       "    <tr>\n",
       "      <th>1</th>\n",
       "      <td>0.9940</td>\n",
       "      <td>'Vladimir Horowitz'</td>\n",
       "      <td>0.379</td>\n",
       "      <td>282133</td>\n",
       "      <td>0.0135</td>\n",
       "      <td>0</td>\n",
       "      <td>6KuQTIu1KoTTkLXKrwlLPV</td>\n",
       "      <td>0.90100</td>\n",
       "      <td>8</td>\n",
       "      <td>0.0763</td>\n",
       "      <td>-28.454</td>\n",
       "      <td>1</td>\n",
       "      <td>Fantasiestücke, Op. 111: Più tosto lento</td>\n",
       "      <td>0</td>\n",
       "      <td>1928</td>\n",
       "      <td>0.0462</td>\n",
       "      <td>83.972</td>\n",
       "      <td>0.0767</td>\n",
       "      <td>1928</td>\n",
       "    </tr>\n",
       "    <tr>\n",
       "      <th>2</th>\n",
       "      <td>0.6040</td>\n",
       "      <td>'Seweryn Goszczyński'</td>\n",
       "      <td>0.749</td>\n",
       "      <td>104300</td>\n",
       "      <td>0.2200</td>\n",
       "      <td>0</td>\n",
       "      <td>6L63VW0PibdM1HDSBoqnoM</td>\n",
       "      <td>0.00000</td>\n",
       "      <td>5</td>\n",
       "      <td>0.1190</td>\n",
       "      <td>-19.924</td>\n",
       "      <td>0</td>\n",
       "      <td>Chapter 1.18 - Zamek kaniowski</td>\n",
       "      <td>0</td>\n",
       "      <td>1928</td>\n",
       "      <td>0.9290</td>\n",
       "      <td>107.177</td>\n",
       "      <td>0.8800</td>\n",
       "      <td>1928</td>\n",
       "    </tr>\n",
       "    <tr>\n",
       "      <th>3</th>\n",
       "      <td>0.9950</td>\n",
       "      <td>'Francisco Canaro'</td>\n",
       "      <td>0.781</td>\n",
       "      <td>180760</td>\n",
       "      <td>0.1300</td>\n",
       "      <td>0</td>\n",
       "      <td>6M94FkXd15sOAOQYRnWPN8</td>\n",
       "      <td>0.88700</td>\n",
       "      <td>1</td>\n",
       "      <td>0.1110</td>\n",
       "      <td>-14.734</td>\n",
       "      <td>0</td>\n",
       "      <td>Bebamos Juntos - Instrumental (Remasterizado)</td>\n",
       "      <td>0</td>\n",
       "      <td>1928-09-25</td>\n",
       "      <td>0.0926</td>\n",
       "      <td>108.003</td>\n",
       "      <td>0.7200</td>\n",
       "      <td>1928</td>\n",
       "    </tr>\n",
       "    <tr>\n",
       "      <th>...</th>\n",
       "      <td>...</td>\n",
       "      <td>...</td>\n",
       "      <td>...</td>\n",
       "      <td>...</td>\n",
       "      <td>...</td>\n",
       "      <td>...</td>\n",
       "      <td>...</td>\n",
       "      <td>...</td>\n",
       "      <td>...</td>\n",
       "      <td>...</td>\n",
       "      <td>...</td>\n",
       "      <td>...</td>\n",
       "      <td>...</td>\n",
       "      <td>...</td>\n",
       "      <td>...</td>\n",
       "      <td>...</td>\n",
       "      <td>...</td>\n",
       "      <td>...</td>\n",
       "      <td>...</td>\n",
       "    </tr>\n",
       "    <tr>\n",
       "      <th>169906</th>\n",
       "      <td>0.5380</td>\n",
       "      <td>'Kygo'</td>\n",
       "      <td>0.514</td>\n",
       "      <td>180700</td>\n",
       "      <td>0.5390</td>\n",
       "      <td>0</td>\n",
       "      <td>52eycxprLhK3lPcRLbQiVk</td>\n",
       "      <td>0.00233</td>\n",
       "      <td>7</td>\n",
       "      <td>0.1080</td>\n",
       "      <td>-9.332</td>\n",
       "      <td>1</td>\n",
       "      <td>How Would I Know</td>\n",
       "      <td>70</td>\n",
       "      <td>2020-05-29</td>\n",
       "      <td>0.1050</td>\n",
       "      <td>123.700</td>\n",
       "      <td>0.1530</td>\n",
       "      <td>2020</td>\n",
       "    </tr>\n",
       "    <tr>\n",
       "      <th>169906</th>\n",
       "      <td>0.5380</td>\n",
       "      <td>'Oh Wonder'</td>\n",
       "      <td>0.514</td>\n",
       "      <td>180700</td>\n",
       "      <td>0.5390</td>\n",
       "      <td>0</td>\n",
       "      <td>52eycxprLhK3lPcRLbQiVk</td>\n",
       "      <td>0.00233</td>\n",
       "      <td>7</td>\n",
       "      <td>0.1080</td>\n",
       "      <td>-9.332</td>\n",
       "      <td>1</td>\n",
       "      <td>How Would I Know</td>\n",
       "      <td>70</td>\n",
       "      <td>2020-05-29</td>\n",
       "      <td>0.1050</td>\n",
       "      <td>123.700</td>\n",
       "      <td>0.1530</td>\n",
       "      <td>2020</td>\n",
       "    </tr>\n",
       "    <tr>\n",
       "      <th>169907</th>\n",
       "      <td>0.0714</td>\n",
       "      <td>'Cash Cash'</td>\n",
       "      <td>0.646</td>\n",
       "      <td>167308</td>\n",
       "      <td>0.7610</td>\n",
       "      <td>0</td>\n",
       "      <td>3wYOGJYD31sLRmBgCvWxa4</td>\n",
       "      <td>0.00000</td>\n",
       "      <td>1</td>\n",
       "      <td>0.2220</td>\n",
       "      <td>-2.557</td>\n",
       "      <td>1</td>\n",
       "      <td>I Found You</td>\n",
       "      <td>70</td>\n",
       "      <td>2020-02-28</td>\n",
       "      <td>0.0385</td>\n",
       "      <td>129.916</td>\n",
       "      <td>0.4720</td>\n",
       "      <td>2020</td>\n",
       "    </tr>\n",
       "    <tr>\n",
       "      <th>169907</th>\n",
       "      <td>0.0714</td>\n",
       "      <td>'Andy Grammer'</td>\n",
       "      <td>0.646</td>\n",
       "      <td>167308</td>\n",
       "      <td>0.7610</td>\n",
       "      <td>0</td>\n",
       "      <td>3wYOGJYD31sLRmBgCvWxa4</td>\n",
       "      <td>0.00000</td>\n",
       "      <td>1</td>\n",
       "      <td>0.2220</td>\n",
       "      <td>-2.557</td>\n",
       "      <td>1</td>\n",
       "      <td>I Found You</td>\n",
       "      <td>70</td>\n",
       "      <td>2020-02-28</td>\n",
       "      <td>0.0385</td>\n",
       "      <td>129.916</td>\n",
       "      <td>0.4720</td>\n",
       "      <td>2020</td>\n",
       "    </tr>\n",
       "    <tr>\n",
       "      <th>169908</th>\n",
       "      <td>0.1090</td>\n",
       "      <td>'Ingrid Andress'</td>\n",
       "      <td>0.512</td>\n",
       "      <td>214787</td>\n",
       "      <td>0.4280</td>\n",
       "      <td>0</td>\n",
       "      <td>60RFlt48hm0l4Fu0JoccOl</td>\n",
       "      <td>0.00000</td>\n",
       "      <td>0</td>\n",
       "      <td>0.1050</td>\n",
       "      <td>-7.387</td>\n",
       "      <td>1</td>\n",
       "      <td>More Hearts Than Mine</td>\n",
       "      <td>65</td>\n",
       "      <td>2020-03-27</td>\n",
       "      <td>0.0271</td>\n",
       "      <td>80.588</td>\n",
       "      <td>0.3660</td>\n",
       "      <td>2020</td>\n",
       "    </tr>\n",
       "  </tbody>\n",
       "</table>\n",
       "<p>226813 rows × 19 columns</p>\n",
       "</div>"
      ],
      "text/plain": [
       "        acousticness                artists  danceability  duration_ms  \\\n",
       "0             0.9950      'Carl Woitschach'         0.708       158648   \n",
       "1             0.9940      'Robert Schumann'         0.379       282133   \n",
       "1             0.9940    'Vladimir Horowitz'         0.379       282133   \n",
       "2             0.6040  'Seweryn Goszczyński'         0.749       104300   \n",
       "3             0.9950     'Francisco Canaro'         0.781       180760   \n",
       "...              ...                    ...           ...          ...   \n",
       "169906        0.5380                 'Kygo'         0.514       180700   \n",
       "169906        0.5380            'Oh Wonder'         0.514       180700   \n",
       "169907        0.0714            'Cash Cash'         0.646       167308   \n",
       "169907        0.0714         'Andy Grammer'         0.646       167308   \n",
       "169908        0.1090       'Ingrid Andress'         0.512       214787   \n",
       "\n",
       "        energy  explicit                      id  instrumentalness  key  \\\n",
       "0       0.1950         0  6KbQ3uYMLKb5jDxLF7wYDD           0.56300   10   \n",
       "1       0.0135         0  6KuQTIu1KoTTkLXKrwlLPV           0.90100    8   \n",
       "1       0.0135         0  6KuQTIu1KoTTkLXKrwlLPV           0.90100    8   \n",
       "2       0.2200         0  6L63VW0PibdM1HDSBoqnoM           0.00000    5   \n",
       "3       0.1300         0  6M94FkXd15sOAOQYRnWPN8           0.88700    1   \n",
       "...        ...       ...                     ...               ...  ...   \n",
       "169906  0.5390         0  52eycxprLhK3lPcRLbQiVk           0.00233    7   \n",
       "169906  0.5390         0  52eycxprLhK3lPcRLbQiVk           0.00233    7   \n",
       "169907  0.7610         0  3wYOGJYD31sLRmBgCvWxa4           0.00000    1   \n",
       "169907  0.7610         0  3wYOGJYD31sLRmBgCvWxa4           0.00000    1   \n",
       "169908  0.4280         0  60RFlt48hm0l4Fu0JoccOl           0.00000    0   \n",
       "\n",
       "        liveness  loudness  mode  \\\n",
       "0         0.1510   -12.428     1   \n",
       "1         0.0763   -28.454     1   \n",
       "1         0.0763   -28.454     1   \n",
       "2         0.1190   -19.924     0   \n",
       "3         0.1110   -14.734     0   \n",
       "...          ...       ...   ...   \n",
       "169906    0.1080    -9.332     1   \n",
       "169906    0.1080    -9.332     1   \n",
       "169907    0.2220    -2.557     1   \n",
       "169907    0.2220    -2.557     1   \n",
       "169908    0.1050    -7.387     1   \n",
       "\n",
       "                                                 name  popularity  \\\n",
       "0                         Singende Bataillone 1. Teil           0   \n",
       "1            Fantasiestücke, Op. 111: Più tosto lento           0   \n",
       "1            Fantasiestücke, Op. 111: Più tosto lento           0   \n",
       "2                      Chapter 1.18 - Zamek kaniowski           0   \n",
       "3       Bebamos Juntos - Instrumental (Remasterizado)           0   \n",
       "...                                               ...         ...   \n",
       "169906                               How Would I Know          70   \n",
       "169906                               How Would I Know          70   \n",
       "169907                                    I Found You          70   \n",
       "169907                                    I Found You          70   \n",
       "169908                          More Hearts Than Mine          65   \n",
       "\n",
       "       release_date  speechiness    tempo  valence  year  \n",
       "0              1928       0.0506  118.469   0.7790  1928  \n",
       "1              1928       0.0462   83.972   0.0767  1928  \n",
       "1              1928       0.0462   83.972   0.0767  1928  \n",
       "2              1928       0.9290  107.177   0.8800  1928  \n",
       "3        1928-09-25       0.0926  108.003   0.7200  1928  \n",
       "...             ...          ...      ...      ...   ...  \n",
       "169906   2020-05-29       0.1050  123.700   0.1530  2020  \n",
       "169906   2020-05-29       0.1050  123.700   0.1530  2020  \n",
       "169907   2020-02-28       0.0385  129.916   0.4720  2020  \n",
       "169907   2020-02-28       0.0385  129.916   0.4720  2020  \n",
       "169908   2020-03-27       0.0271   80.588   0.3660  2020  \n",
       "\n",
       "[226813 rows x 19 columns]"
      ]
     },
     "execution_count": 6,
     "metadata": {},
     "output_type": "execute_result"
    }
   ],
   "source": [
    "df['artists'] = df['artists'].apply(lambda x: x[1:-1].split(','))\n",
    "df = df.explode('artists')\n",
    "df"
   ]
  },
  {
   "cell_type": "markdown",
   "metadata": {},
   "source": [
    "Next, let's drop some unnecessary data. \n",
    "\n",
    "For example, we don't need both 'year' and 'release_date'. We also don't need the binary features like 'explicit' and 'mode' as whether or not it's explicit has no effect on how the song listens, and the modality can be replaced by valence for our analysis. Duration_ms is also unnecessary as it doesn't affect the style of a song.\n",
    "\n",
    "The one that may be controversial is the 'key' feature where each number maps to a key. I decided to take this out as well due to the discrete nature of it compared to the other numerical features, which are mostly continuous. Again, it is not as important in the grand scheme of things as songs can be transposed to different keys without being affected to a significant degree, at least in my opinion."
   ]
  },
  {
   "cell_type": "code",
   "execution_count": 7,
   "metadata": {},
   "outputs": [
    {
     "data": {
      "text/plain": [
       "Index(['acousticness', 'artists', 'danceability', 'duration_ms', 'energy',\n",
       "       'explicit', 'id', 'instrumentalness', 'key', 'liveness', 'loudness',\n",
       "       'mode', 'name', 'popularity', 'release_date', 'speechiness', 'tempo',\n",
       "       'valence', 'year'],\n",
       "      dtype='object')"
      ]
     },
     "execution_count": 7,
     "metadata": {},
     "output_type": "execute_result"
    }
   ],
   "source": [
    "df.columns"
   ]
  },
  {
   "cell_type": "code",
   "execution_count": 8,
   "metadata": {},
   "outputs": [
    {
     "data": {
      "text/html": [
       "<div>\n",
       "<style scoped>\n",
       "    .dataframe tbody tr th:only-of-type {\n",
       "        vertical-align: middle;\n",
       "    }\n",
       "\n",
       "    .dataframe tbody tr th {\n",
       "        vertical-align: top;\n",
       "    }\n",
       "\n",
       "    .dataframe thead th {\n",
       "        text-align: right;\n",
       "    }\n",
       "</style>\n",
       "<table border=\"1\" class=\"dataframe\">\n",
       "  <thead>\n",
       "    <tr style=\"text-align: right;\">\n",
       "      <th></th>\n",
       "      <th>acousticness</th>\n",
       "      <th>artists</th>\n",
       "      <th>danceability</th>\n",
       "      <th>energy</th>\n",
       "      <th>instrumentalness</th>\n",
       "      <th>liveness</th>\n",
       "      <th>loudness</th>\n",
       "      <th>name</th>\n",
       "      <th>popularity</th>\n",
       "      <th>speechiness</th>\n",
       "      <th>tempo</th>\n",
       "      <th>valence</th>\n",
       "      <th>year</th>\n",
       "    </tr>\n",
       "  </thead>\n",
       "  <tbody>\n",
       "    <tr>\n",
       "      <th>0</th>\n",
       "      <td>0.9950</td>\n",
       "      <td>'Carl Woitschach'</td>\n",
       "      <td>0.708</td>\n",
       "      <td>0.1950</td>\n",
       "      <td>0.56300</td>\n",
       "      <td>0.1510</td>\n",
       "      <td>-12.428</td>\n",
       "      <td>Singende Bataillone 1. Teil</td>\n",
       "      <td>0</td>\n",
       "      <td>0.0506</td>\n",
       "      <td>118.469</td>\n",
       "      <td>0.7790</td>\n",
       "      <td>1928</td>\n",
       "    </tr>\n",
       "    <tr>\n",
       "      <th>1</th>\n",
       "      <td>0.9940</td>\n",
       "      <td>'Robert Schumann'</td>\n",
       "      <td>0.379</td>\n",
       "      <td>0.0135</td>\n",
       "      <td>0.90100</td>\n",
       "      <td>0.0763</td>\n",
       "      <td>-28.454</td>\n",
       "      <td>Fantasiestücke, Op. 111: Più tosto lento</td>\n",
       "      <td>0</td>\n",
       "      <td>0.0462</td>\n",
       "      <td>83.972</td>\n",
       "      <td>0.0767</td>\n",
       "      <td>1928</td>\n",
       "    </tr>\n",
       "    <tr>\n",
       "      <th>1</th>\n",
       "      <td>0.9940</td>\n",
       "      <td>'Vladimir Horowitz'</td>\n",
       "      <td>0.379</td>\n",
       "      <td>0.0135</td>\n",
       "      <td>0.90100</td>\n",
       "      <td>0.0763</td>\n",
       "      <td>-28.454</td>\n",
       "      <td>Fantasiestücke, Op. 111: Più tosto lento</td>\n",
       "      <td>0</td>\n",
       "      <td>0.0462</td>\n",
       "      <td>83.972</td>\n",
       "      <td>0.0767</td>\n",
       "      <td>1928</td>\n",
       "    </tr>\n",
       "    <tr>\n",
       "      <th>2</th>\n",
       "      <td>0.6040</td>\n",
       "      <td>'Seweryn Goszczyński'</td>\n",
       "      <td>0.749</td>\n",
       "      <td>0.2200</td>\n",
       "      <td>0.00000</td>\n",
       "      <td>0.1190</td>\n",
       "      <td>-19.924</td>\n",
       "      <td>Chapter 1.18 - Zamek kaniowski</td>\n",
       "      <td>0</td>\n",
       "      <td>0.9290</td>\n",
       "      <td>107.177</td>\n",
       "      <td>0.8800</td>\n",
       "      <td>1928</td>\n",
       "    </tr>\n",
       "    <tr>\n",
       "      <th>3</th>\n",
       "      <td>0.9950</td>\n",
       "      <td>'Francisco Canaro'</td>\n",
       "      <td>0.781</td>\n",
       "      <td>0.1300</td>\n",
       "      <td>0.88700</td>\n",
       "      <td>0.1110</td>\n",
       "      <td>-14.734</td>\n",
       "      <td>Bebamos Juntos - Instrumental (Remasterizado)</td>\n",
       "      <td>0</td>\n",
       "      <td>0.0926</td>\n",
       "      <td>108.003</td>\n",
       "      <td>0.7200</td>\n",
       "      <td>1928</td>\n",
       "    </tr>\n",
       "    <tr>\n",
       "      <th>...</th>\n",
       "      <td>...</td>\n",
       "      <td>...</td>\n",
       "      <td>...</td>\n",
       "      <td>...</td>\n",
       "      <td>...</td>\n",
       "      <td>...</td>\n",
       "      <td>...</td>\n",
       "      <td>...</td>\n",
       "      <td>...</td>\n",
       "      <td>...</td>\n",
       "      <td>...</td>\n",
       "      <td>...</td>\n",
       "      <td>...</td>\n",
       "    </tr>\n",
       "    <tr>\n",
       "      <th>169906</th>\n",
       "      <td>0.5380</td>\n",
       "      <td>'Kygo'</td>\n",
       "      <td>0.514</td>\n",
       "      <td>0.5390</td>\n",
       "      <td>0.00233</td>\n",
       "      <td>0.1080</td>\n",
       "      <td>-9.332</td>\n",
       "      <td>How Would I Know</td>\n",
       "      <td>70</td>\n",
       "      <td>0.1050</td>\n",
       "      <td>123.700</td>\n",
       "      <td>0.1530</td>\n",
       "      <td>2020</td>\n",
       "    </tr>\n",
       "    <tr>\n",
       "      <th>169906</th>\n",
       "      <td>0.5380</td>\n",
       "      <td>'Oh Wonder'</td>\n",
       "      <td>0.514</td>\n",
       "      <td>0.5390</td>\n",
       "      <td>0.00233</td>\n",
       "      <td>0.1080</td>\n",
       "      <td>-9.332</td>\n",
       "      <td>How Would I Know</td>\n",
       "      <td>70</td>\n",
       "      <td>0.1050</td>\n",
       "      <td>123.700</td>\n",
       "      <td>0.1530</td>\n",
       "      <td>2020</td>\n",
       "    </tr>\n",
       "    <tr>\n",
       "      <th>169907</th>\n",
       "      <td>0.0714</td>\n",
       "      <td>'Cash Cash'</td>\n",
       "      <td>0.646</td>\n",
       "      <td>0.7610</td>\n",
       "      <td>0.00000</td>\n",
       "      <td>0.2220</td>\n",
       "      <td>-2.557</td>\n",
       "      <td>I Found You</td>\n",
       "      <td>70</td>\n",
       "      <td>0.0385</td>\n",
       "      <td>129.916</td>\n",
       "      <td>0.4720</td>\n",
       "      <td>2020</td>\n",
       "    </tr>\n",
       "    <tr>\n",
       "      <th>169907</th>\n",
       "      <td>0.0714</td>\n",
       "      <td>'Andy Grammer'</td>\n",
       "      <td>0.646</td>\n",
       "      <td>0.7610</td>\n",
       "      <td>0.00000</td>\n",
       "      <td>0.2220</td>\n",
       "      <td>-2.557</td>\n",
       "      <td>I Found You</td>\n",
       "      <td>70</td>\n",
       "      <td>0.0385</td>\n",
       "      <td>129.916</td>\n",
       "      <td>0.4720</td>\n",
       "      <td>2020</td>\n",
       "    </tr>\n",
       "    <tr>\n",
       "      <th>169908</th>\n",
       "      <td>0.1090</td>\n",
       "      <td>'Ingrid Andress'</td>\n",
       "      <td>0.512</td>\n",
       "      <td>0.4280</td>\n",
       "      <td>0.00000</td>\n",
       "      <td>0.1050</td>\n",
       "      <td>-7.387</td>\n",
       "      <td>More Hearts Than Mine</td>\n",
       "      <td>65</td>\n",
       "      <td>0.0271</td>\n",
       "      <td>80.588</td>\n",
       "      <td>0.3660</td>\n",
       "      <td>2020</td>\n",
       "    </tr>\n",
       "  </tbody>\n",
       "</table>\n",
       "<p>226813 rows × 13 columns</p>\n",
       "</div>"
      ],
      "text/plain": [
       "        acousticness                artists  danceability  energy  \\\n",
       "0             0.9950      'Carl Woitschach'         0.708  0.1950   \n",
       "1             0.9940      'Robert Schumann'         0.379  0.0135   \n",
       "1             0.9940    'Vladimir Horowitz'         0.379  0.0135   \n",
       "2             0.6040  'Seweryn Goszczyński'         0.749  0.2200   \n",
       "3             0.9950     'Francisco Canaro'         0.781  0.1300   \n",
       "...              ...                    ...           ...     ...   \n",
       "169906        0.5380                 'Kygo'         0.514  0.5390   \n",
       "169906        0.5380            'Oh Wonder'         0.514  0.5390   \n",
       "169907        0.0714            'Cash Cash'         0.646  0.7610   \n",
       "169907        0.0714         'Andy Grammer'         0.646  0.7610   \n",
       "169908        0.1090       'Ingrid Andress'         0.512  0.4280   \n",
       "\n",
       "        instrumentalness  liveness  loudness  \\\n",
       "0                0.56300    0.1510   -12.428   \n",
       "1                0.90100    0.0763   -28.454   \n",
       "1                0.90100    0.0763   -28.454   \n",
       "2                0.00000    0.1190   -19.924   \n",
       "3                0.88700    0.1110   -14.734   \n",
       "...                  ...       ...       ...   \n",
       "169906           0.00233    0.1080    -9.332   \n",
       "169906           0.00233    0.1080    -9.332   \n",
       "169907           0.00000    0.2220    -2.557   \n",
       "169907           0.00000    0.2220    -2.557   \n",
       "169908           0.00000    0.1050    -7.387   \n",
       "\n",
       "                                                 name  popularity  \\\n",
       "0                         Singende Bataillone 1. Teil           0   \n",
       "1            Fantasiestücke, Op. 111: Più tosto lento           0   \n",
       "1            Fantasiestücke, Op. 111: Più tosto lento           0   \n",
       "2                      Chapter 1.18 - Zamek kaniowski           0   \n",
       "3       Bebamos Juntos - Instrumental (Remasterizado)           0   \n",
       "...                                               ...         ...   \n",
       "169906                               How Would I Know          70   \n",
       "169906                               How Would I Know          70   \n",
       "169907                                    I Found You          70   \n",
       "169907                                    I Found You          70   \n",
       "169908                          More Hearts Than Mine          65   \n",
       "\n",
       "        speechiness    tempo  valence  year  \n",
       "0            0.0506  118.469   0.7790  1928  \n",
       "1            0.0462   83.972   0.0767  1928  \n",
       "1            0.0462   83.972   0.0767  1928  \n",
       "2            0.9290  107.177   0.8800  1928  \n",
       "3            0.0926  108.003   0.7200  1928  \n",
       "...             ...      ...      ...   ...  \n",
       "169906       0.1050  123.700   0.1530  2020  \n",
       "169906       0.1050  123.700   0.1530  2020  \n",
       "169907       0.0385  129.916   0.4720  2020  \n",
       "169907       0.0385  129.916   0.4720  2020  \n",
       "169908       0.0271   80.588   0.3660  2020  \n",
       "\n",
       "[226813 rows x 13 columns]"
      ]
     },
     "execution_count": 8,
     "metadata": {},
     "output_type": "execute_result"
    }
   ],
   "source": [
    "df.drop(['release_date', 'id', 'explicit', 'mode', 'key', 'duration_ms'], axis = 1, inplace = True)\n",
    "df"
   ]
  },
  {
   "cell_type": "markdown",
   "metadata": {},
   "source": [
    "## 1.2 Data Exploration"
   ]
  },
  {
   "cell_type": "markdown",
   "metadata": {},
   "source": [
    "### 1.2.1 General Trends/Distributions"
   ]
  },
  {
   "cell_type": "markdown",
   "metadata": {},
   "source": [
    "Now that we are done with the cleaning, we can have some fun exploring our data. To start off, let's take a look at how the features of data are actually distributed."
   ]
  },
  {
   "cell_type": "code",
   "execution_count": 9,
   "metadata": {
    "scrolled": true
   },
   "outputs": [
    {
     "data": {
      "image/png": "[encoded data removed]",
      "text/plain": [
       "<Figure size 432x288 with 1 Axes>"
      ]
     },
     "metadata": {
      "needs_background": "light"
     },
     "output_type": "display_data"
    },
    {
     "data": {
      "image/png": "[encoded data removed]",
      "text/plain": [
       "<Figure size 432x288 with 1 Axes>"
      ]
     },
     "metadata": {
      "needs_background": "light"
     },
     "output_type": "display_data"
    },
    {
     "data": {
      "image/png": "[encoded data removed]",
      "text/plain": [
       "<Figure size 432x288 with 1 Axes>"
      ]
     },
     "metadata": {
      "needs_background": "light"
     },
     "output_type": "display_data"
    },
    {
     "data": {
      "image/png": "[encoded data removed]",
      "text/plain": [
       "<Figure size 432x288 with 1 Axes>"
      ]
     },
     "metadata": {
      "needs_background": "light"
     },
     "output_type": "display_data"
    },
    {
     "data": {
      "image/png": "[encoded data removed]",
      "text/plain": [
       "<Figure size 432x288 with 1 Axes>"
      ]
     },
     "metadata": {
      "needs_background": "light"
     },
     "output_type": "display_data"
    },
    {
     "data": {
      "image/png": "[encoded data removed]",
      "text/plain": [
       "<Figure size 432x288 with 1 Axes>"
      ]
     },
     "metadata": {
      "needs_background": "light"
     },
     "output_type": "display_data"
    },
    {
     "data": {
      "image/png": "[encoded data removed]",
      "text/plain": [
       "<Figure size 432x288 with 1 Axes>"
      ]
     },
     "metadata": {
      "needs_background": "light"
     },
     "output_type": "display_data"
    },
    {
     "data": {
      "image/png": "[encoded data removed]",
      "text/plain": [
       "<Figure size 432x288 with 1 Axes>"
      ]
     },
     "metadata": {
      "needs_background": "light"
     },
     "output_type": "display_data"
    },
    {
     "data": {
      "image/png": "[encoded data removed]",
      "text/plain": [
       "<Figure size 432x288 with 1 Axes>"
      ]
     },
     "metadata": {
      "needs_background": "light"
     },
     "output_type": "display_data"
    },
    {
     "data": {
      "image/png": "[encoded data removed]",
      "text/plain": [
       "<Figure size 432x288 with 1 Axes>"
      ]
     },
     "metadata": {
      "needs_background": "light"
     },
     "output_type": "display_data"
    },
    {
     "data": {
      "image/png": "[encoded data removed]",
      "text/plain": [
       "<Figure size 432x288 with 1 Axes>"
      ]
     },
     "metadata": {
      "needs_background": "light"
     },
     "output_type": "display_data"
    }
   ],
   "source": [
    "features = ['acousticness', 'danceability', 'energy',\n",
    "        'instrumentalness', 'liveness', 'loudness',\n",
    "        'popularity', 'speechiness', 'tempo',\n",
    "       'valence', 'year']\n",
    "for feat in features:\n",
    "    plt.figure()\n",
    "    sns.distplot(df[feat], kde = False)"
   ]
  },
  {
   "cell_type": "markdown",
   "metadata": {},
   "source": [
    "Some interesting takeaways:\n",
    "\n",
    "- For some of the features (acousticness, instrumentalness, speechiness) the data almost mimics that of a binary graph\n",
    "\n",
    "\n",
    "- Very few features are evenly distributed (energy, valence)\n",
    "\n",
    "\n",
    "- More graphs are left skewed (speechiness, popularity, liveness) compared to right skewed (loudness)\n",
    "\n",
    "\n",
    "- Only one seems to even remotely resemble a normal distribution (danceability) although this is kind of a stretch"
   ]
  },
  {
   "cell_type": "markdown",
   "metadata": {},
   "source": [
    "Next, let's take a look at the correlations between the features."
   ]
  },
  {
   "cell_type": "code",
   "execution_count": 10,
   "metadata": {},
   "outputs": [
    {
     "data": {
      "text/plain": [
       "<matplotlib.axes._subplots.AxesSubplot at 0x1a6746610c8>"
      ]
     },
     "execution_count": 10,
     "metadata": {},
     "output_type": "execute_result"
    },
    {
     "data": {
      "image/png": "[encoded data removed]",
      "text/plain": [
       "<Figure size 864x432 with 2 Axes>"
      ]
     },
     "metadata": {
      "needs_background": "light"
     },
     "output_type": "display_data"
    }
   ],
   "source": [
    "plt.figure(figsize = (12, 6))\n",
    "sns.heatmap(df.corr(), annot = True, cmap = 'rocket_r')"
   ]
  },
  {
   "cell_type": "markdown",
   "metadata": {},
   "source": [
    "As we can see, there are a few correlations to note: \n",
    "\n",
    "1. There is a strong correlation between loudness and energy. This makes sense, as louder songs do tend to be more intense and have more activity.\n",
    "2. There is a strong correlation between year and popularity. This may seem surprising at first, but it makes sense as Spotify is technically a pretty modern app, with many of its users being fairly young. Since people generally tend to listen to the music of their generation, it makes sense for more modern songs to be more popular with the majority of the audience."
   ]
  },
  {
   "cell_type": "markdown",
   "metadata": {},
   "source": [
    "Let's visualize these two observations."
   ]
  },
  {
   "cell_type": "code",
   "execution_count": 11,
   "metadata": {},
   "outputs": [
    {
     "data": {
      "text/plain": [
       "<seaborn.axisgrid.JointGrid at 0x1a674a5e508>"
      ]
     },
     "execution_count": 11,
     "metadata": {},
     "output_type": "execute_result"
    },
    {
     "data": {
      "text/plain": [
       "<Figure size 432x288 with 0 Axes>"
      ]
     },
     "metadata": {},
     "output_type": "display_data"
    },
    {
     "data": {
      "image/png": "[encoded data removed]",
      "text/plain": [
       "<Figure size 432x432 with 3 Axes>"
      ]
     },
     "metadata": {
      "needs_background": "light"
     },
     "output_type": "display_data"
    },
    {
     "data": {
      "text/plain": [
       "<Figure size 432x288 with 0 Axes>"
      ]
     },
     "metadata": {},
     "output_type": "display_data"
    },
    {
     "data": {
      "image/png": "[encoded data removed]",
      "text/plain": [
       "<Figure size 432x432 with 3 Axes>"
      ]
     },
     "metadata": {
      "needs_background": "light"
     },
     "output_type": "display_data"
    }
   ],
   "source": [
    "plt.figure()\n",
    "sns.jointplot(x = 'loudness', y = 'energy', data = df)\n",
    "plt.figure()\n",
    "sns.jointplot(x = 'year', y = 'popularity', data = df)"
   ]
  },
  {
   "cell_type": "markdown",
   "metadata": {},
   "source": [
    "Just as we observed before, we can see a definitive correlation between the pairs of features. We can also estimate/confirm that the correlation between year and popularity are more clear to see. This makes sense as this pair has a higher correlation compared to loudness and energy."
   ]
  },
  {
   "cell_type": "markdown",
   "metadata": {},
   "source": [
    "### 1.2.2 Top Charts"
   ]
  },
  {
   "cell_type": "markdown",
   "metadata": {},
   "source": [
    "Moving on, let's take a look at some top charts. To start off, let's see what the most popular songs on Spotify are. We will use the popularity rating that is integrated in our data already."
   ]
  },
  {
   "cell_type": "code",
   "execution_count": 12,
   "metadata": {},
   "outputs": [
    {
     "data": {
      "image/png": "[encoded data removed]",
      "text/plain": [
       "<Figure size 864x432 with 1 Axes>"
      ]
     },
     "metadata": {
      "needs_background": "light"
     },
     "output_type": "display_data"
    }
   ],
   "source": [
    "plt.figure(figsize = (12, 6))\n",
    "mostPopularSong = df.groupby(by='name')['popularity'].max().sort_values(ascending=False).head(10)\n",
    "mostPopularSongPlot = sns.barplot(x = mostPopularSong.index, y = mostPopularSong, palette = 'Spectral')\n",
    "mostPopularSongPlot.set_xlabel('Song Names')\n",
    "mostPopularSongPlot.set_ylabel('Popularity Rating')\n",
    "mostPopularSongPlot.set_title('Top 10 Most Popular Songs on Spotify (By Highest Popularity Rating)')\n",
    "plt.xticks(rotation = 90)\n",
    "sns.despine(left = True, bottom = True)"
   ]
  },
  {
   "cell_type": "markdown",
   "metadata": {},
   "source": [
    "It seems strange that such a recent song like Blinding Lights is the most popular song. Let's delve deeper and see if the data has a recency bias. Let's group our data by year and plot the max popularity of each year's most popular song in a line graph."
   ]
  },
  {
   "cell_type": "code",
   "execution_count": 13,
   "metadata": {},
   "outputs": [
    {
     "data": {
      "text/plain": [
       "<matplotlib.axes._subplots.AxesSubplot at 0x1a67a2ff388>"
      ]
     },
     "execution_count": 13,
     "metadata": {},
     "output_type": "execute_result"
    },
    {
     "data": {
      "image/png": "[encoded data removed]",
      "text/plain": [
       "<Figure size 432x288 with 1 Axes>"
      ]
     },
     "metadata": {
      "needs_background": "light"
     },
     "output_type": "display_data"
    }
   ],
   "source": [
    "popByYear = df.groupby('year')['popularity'].max()\n",
    "sns.lineplot(x = popByYear.index, y = popByYear)"
   ]
  },
  {
   "cell_type": "markdown",
   "metadata": {},
   "source": [
    "As we can see, there is definitely a trend here where more recent songs have a higher popularity rating. Again, this can be attributed to the younger audience that uses Spotify, who are more likely to listen to the current most popular songs."
   ]
  },
  {
   "cell_type": "markdown",
   "metadata": {},
   "source": [
    "Next, let's see who the 10 most popular artists are. There are several ways to approach this, we will sort using total popularity as a sum of the popularity of all their songs."
   ]
  },
  {
   "cell_type": "code",
   "execution_count": 14,
   "metadata": {},
   "outputs": [
    {
     "data": {
      "image/png": "[encoded data removed]",
      "text/plain": [
       "<Figure size 864x432 with 1 Axes>"
      ]
     },
     "metadata": {
      "needs_background": "light"
     },
     "output_type": "display_data"
    }
   ],
   "source": [
    "plt.figure(figsize = (12, 6))\n",
    "mostPopularArtist = df.groupby(by='artists')['popularity'].sum().sort_values(ascending=False).head(10)\n",
    "mostPopularArtistPlot = sns.barplot(x = mostPopularArtist.index, y = mostPopularArtist, palette = 'Spectral')\n",
    "mostPopularArtistPlot.set_xlabel('Artists Names')\n",
    "mostPopularArtistPlot.set_ylabel('Popularity Rating')\n",
    "mostPopularArtistPlot.set_title('Top 10 Most Popular Artists on Spotify (By Total Popularity)')\n",
    "plt.xticks(rotation = 90)\n",
    "sns.despine(left = True, bottom = True)"
   ]
  },
  {
   "cell_type": "markdown",
   "metadata": {},
   "source": [
    "This is starting to make more sense. It would be almost insulting to not see The Beatles on top as they have been, without question, one of the most popular and influential bands of all time. \n",
    "\n",
    "Additionally, it is also interesting to see how many of the top 10 are actually bands. One possible explanation for this may be that bands tend to release more songs than singular artists. \n",
    "\n",
    "Another observation is that almost all the artists on this list were active mostly in the past. Compared to some of the most popular artists of today, they have already produced all of their songs, while the artists of today still have many more to make. If this is the case, then we can expect to see popular artists like Drake and The Weeknd rise up in the ranks in the future.\n",
    "\n"
   ]
  },
  {
   "cell_type": "markdown",
   "metadata": {},
   "source": [
    "I've always wondered who the artists with the most songs were. Let's use our data from Spotify to find out. \n",
    "\n",
    "Disclaimer: This is not who has the most songs of all time, as the data is from Spotify."
   ]
  },
  {
   "cell_type": "code",
   "execution_count": 15,
   "metadata": {},
   "outputs": [
    {
     "data": {
      "image/png": "[encoded data removed]",
      "text/plain": [
       "<Figure size 864x432 with 1 Axes>"
      ]
     },
     "metadata": {
      "needs_background": "light"
     },
     "output_type": "display_data"
    }
   ],
   "source": [
    "plt.figure(figsize = (12, 6))\n",
    "MostSongs = df['artists'].value_counts().head(10)\n",
    "sns.barplot(x = MostSongs, y = MostSongs.index, palette = 'Spectral')\n",
    "sns.despine(right = True)"
   ]
  },
  {
   "cell_type": "markdown",
   "metadata": {},
   "source": [
    "Wow! It looks like Francisco Canaro has by far the most number of music on Spotify, almost twice as much as the next artist. \n",
    "\n",
    "We also see some classical composers on the list which is always nice to see. Surprisingly, we do not see Franz Joseph Haydn on the list as he was known to write an absurd amount of music, including 107 symphonies compared to Mozart's 41. However, this is probably due to the amount of covers on Spotify, and compared to some of the other famous composers, Haydn's work may be considered less popular."
   ]
  },
  {
   "cell_type": "markdown",
   "metadata": {},
   "source": [
    "### 1.2.3 Trends Through the Ages"
   ]
  },
  {
   "cell_type": "markdown",
   "metadata": {},
   "source": [
    "Finally, let's analyze some trends through the years, or <b>decades</b>. To do this, we will need to create a function to specifically separate the entries into decades based on the 'year' column."
   ]
  },
  {
   "cell_type": "code",
   "execution_count": 16,
   "metadata": {},
   "outputs": [],
   "source": [
    "def decadeify (year):\n",
    "    if year < 1930:\n",
    "        return '1920s'\n",
    "    elif year < 1940:\n",
    "        return '1930s'\n",
    "    elif year < 1950:\n",
    "        return '1940s'\n",
    "    elif year < 1960:\n",
    "        return '1950s'\n",
    "    elif year < 1970:\n",
    "        return '1960s'\n",
    "    elif year < 1980:\n",
    "        return '1970s'\n",
    "    elif year < 1990:\n",
    "        return '1980s'\n",
    "    elif year < 2000:\n",
    "        return '1990s'\n",
    "    elif year < 2010:\n",
    "        return '2000s'\n",
    "    elif year < 2020:\n",
    "        return '2010s'\n",
    "    else:\n",
    "        return '2020s'"
   ]
  },
  {
   "cell_type": "markdown",
   "metadata": {},
   "source": [
    "In order to use our function on our data, we will need to utilize the built-in apply function with a lambda expression to provide the argument that we pass in."
   ]
  },
  {
   "cell_type": "code",
   "execution_count": 17,
   "metadata": {},
   "outputs": [
    {
     "data": {
      "text/html": [
       "<div>\n",
       "<style scoped>\n",
       "    .dataframe tbody tr th:only-of-type {\n",
       "        vertical-align: middle;\n",
       "    }\n",
       "\n",
       "    .dataframe tbody tr th {\n",
       "        vertical-align: top;\n",
       "    }\n",
       "\n",
       "    .dataframe thead th {\n",
       "        text-align: right;\n",
       "    }\n",
       "</style>\n",
       "<table border=\"1\" class=\"dataframe\">\n",
       "  <thead>\n",
       "    <tr style=\"text-align: right;\">\n",
       "      <th></th>\n",
       "      <th>acousticness</th>\n",
       "      <th>artists</th>\n",
       "      <th>danceability</th>\n",
       "      <th>energy</th>\n",
       "      <th>instrumentalness</th>\n",
       "      <th>liveness</th>\n",
       "      <th>loudness</th>\n",
       "      <th>name</th>\n",
       "      <th>popularity</th>\n",
       "      <th>speechiness</th>\n",
       "      <th>tempo</th>\n",
       "      <th>valence</th>\n",
       "      <th>year</th>\n",
       "      <th>decade</th>\n",
       "    </tr>\n",
       "  </thead>\n",
       "  <tbody>\n",
       "    <tr>\n",
       "      <th>0</th>\n",
       "      <td>0.995</td>\n",
       "      <td>'Carl Woitschach'</td>\n",
       "      <td>0.708</td>\n",
       "      <td>0.1950</td>\n",
       "      <td>0.563</td>\n",
       "      <td>0.1510</td>\n",
       "      <td>-12.428</td>\n",
       "      <td>Singende Bataillone 1. Teil</td>\n",
       "      <td>0</td>\n",
       "      <td>0.0506</td>\n",
       "      <td>118.469</td>\n",
       "      <td>0.7790</td>\n",
       "      <td>1928</td>\n",
       "      <td>1920s</td>\n",
       "    </tr>\n",
       "    <tr>\n",
       "      <th>1</th>\n",
       "      <td>0.994</td>\n",
       "      <td>'Robert Schumann'</td>\n",
       "      <td>0.379</td>\n",
       "      <td>0.0135</td>\n",
       "      <td>0.901</td>\n",
       "      <td>0.0763</td>\n",
       "      <td>-28.454</td>\n",
       "      <td>Fantasiestücke, Op. 111: Più tosto lento</td>\n",
       "      <td>0</td>\n",
       "      <td>0.0462</td>\n",
       "      <td>83.972</td>\n",
       "      <td>0.0767</td>\n",
       "      <td>1928</td>\n",
       "      <td>1920s</td>\n",
       "    </tr>\n",
       "    <tr>\n",
       "      <th>1</th>\n",
       "      <td>0.994</td>\n",
       "      <td>'Vladimir Horowitz'</td>\n",
       "      <td>0.379</td>\n",
       "      <td>0.0135</td>\n",
       "      <td>0.901</td>\n",
       "      <td>0.0763</td>\n",
       "      <td>-28.454</td>\n",
       "      <td>Fantasiestücke, Op. 111: Più tosto lento</td>\n",
       "      <td>0</td>\n",
       "      <td>0.0462</td>\n",
       "      <td>83.972</td>\n",
       "      <td>0.0767</td>\n",
       "      <td>1928</td>\n",
       "      <td>1920s</td>\n",
       "    </tr>\n",
       "    <tr>\n",
       "      <th>2</th>\n",
       "      <td>0.604</td>\n",
       "      <td>'Seweryn Goszczyński'</td>\n",
       "      <td>0.749</td>\n",
       "      <td>0.2200</td>\n",
       "      <td>0.000</td>\n",
       "      <td>0.1190</td>\n",
       "      <td>-19.924</td>\n",
       "      <td>Chapter 1.18 - Zamek kaniowski</td>\n",
       "      <td>0</td>\n",
       "      <td>0.9290</td>\n",
       "      <td>107.177</td>\n",
       "      <td>0.8800</td>\n",
       "      <td>1928</td>\n",
       "      <td>1920s</td>\n",
       "    </tr>\n",
       "    <tr>\n",
       "      <th>3</th>\n",
       "      <td>0.995</td>\n",
       "      <td>'Francisco Canaro'</td>\n",
       "      <td>0.781</td>\n",
       "      <td>0.1300</td>\n",
       "      <td>0.887</td>\n",
       "      <td>0.1110</td>\n",
       "      <td>-14.734</td>\n",
       "      <td>Bebamos Juntos - Instrumental (Remasterizado)</td>\n",
       "      <td>0</td>\n",
       "      <td>0.0926</td>\n",
       "      <td>108.003</td>\n",
       "      <td>0.7200</td>\n",
       "      <td>1928</td>\n",
       "      <td>1920s</td>\n",
       "    </tr>\n",
       "  </tbody>\n",
       "</table>\n",
       "</div>"
      ],
      "text/plain": [
       "   acousticness                artists  danceability  energy  \\\n",
       "0         0.995      'Carl Woitschach'         0.708  0.1950   \n",
       "1         0.994      'Robert Schumann'         0.379  0.0135   \n",
       "1         0.994    'Vladimir Horowitz'         0.379  0.0135   \n",
       "2         0.604  'Seweryn Goszczyński'         0.749  0.2200   \n",
       "3         0.995     'Francisco Canaro'         0.781  0.1300   \n",
       "\n",
       "   instrumentalness  liveness  loudness  \\\n",
       "0             0.563    0.1510   -12.428   \n",
       "1             0.901    0.0763   -28.454   \n",
       "1             0.901    0.0763   -28.454   \n",
       "2             0.000    0.1190   -19.924   \n",
       "3             0.887    0.1110   -14.734   \n",
       "\n",
       "                                            name  popularity  speechiness  \\\n",
       "0                    Singende Bataillone 1. Teil           0       0.0506   \n",
       "1       Fantasiestücke, Op. 111: Più tosto lento           0       0.0462   \n",
       "1       Fantasiestücke, Op. 111: Più tosto lento           0       0.0462   \n",
       "2                 Chapter 1.18 - Zamek kaniowski           0       0.9290   \n",
       "3  Bebamos Juntos - Instrumental (Remasterizado)           0       0.0926   \n",
       "\n",
       "     tempo  valence  year decade  \n",
       "0  118.469   0.7790  1928  1920s  \n",
       "1   83.972   0.0767  1928  1920s  \n",
       "1   83.972   0.0767  1928  1920s  \n",
       "2  107.177   0.8800  1928  1920s  \n",
       "3  108.003   0.7200  1928  1920s  "
      ]
     },
     "execution_count": 17,
     "metadata": {},
     "output_type": "execute_result"
    }
   ],
   "source": [
    "df['decade'] = df['year'].apply(lambda x: decadeify(x))\n",
    "df.head()"
   ]
  },
  {
   "cell_type": "markdown",
   "metadata": {},
   "source": [
    "Let's check out what the most popular songs of each decade are. To do this, we will again use the groupby function, except this time with our new 'decade' column."
   ]
  },
  {
   "cell_type": "code",
   "execution_count": 18,
   "metadata": {},
   "outputs": [
    {
     "data": {
      "text/html": [
       "<div>\n",
       "<style scoped>\n",
       "    .dataframe tbody tr th:only-of-type {\n",
       "        vertical-align: middle;\n",
       "    }\n",
       "\n",
       "    .dataframe tbody tr th {\n",
       "        vertical-align: top;\n",
       "    }\n",
       "\n",
       "    .dataframe thead th {\n",
       "        text-align: right;\n",
       "    }\n",
       "</style>\n",
       "<table border=\"1\" class=\"dataframe\">\n",
       "  <thead>\n",
       "    <tr style=\"text-align: right;\">\n",
       "      <th></th>\n",
       "      <th>artists</th>\n",
       "      <th>name</th>\n",
       "      <th>popularity</th>\n",
       "    </tr>\n",
       "    <tr>\n",
       "      <th>decade</th>\n",
       "      <th></th>\n",
       "      <th></th>\n",
       "      <th></th>\n",
       "    </tr>\n",
       "  </thead>\n",
       "  <tbody>\n",
       "    <tr>\n",
       "      <th>1920s</th>\n",
       "      <td>'Benny Goodman'</td>\n",
       "      <td>Sing, Sing, Sing</td>\n",
       "      <td>50</td>\n",
       "    </tr>\n",
       "    <tr>\n",
       "      <th>1930s</th>\n",
       "      <td>'Billie Holiday'</td>\n",
       "      <td>All of Me (with Eddie Heywood &amp; His Orchestra)</td>\n",
       "      <td>62</td>\n",
       "    </tr>\n",
       "    <tr>\n",
       "      <th>1940s</th>\n",
       "      <td>'Erik Satie'</td>\n",
       "      <td>Gymnopédie No. 1</td>\n",
       "      <td>65</td>\n",
       "    </tr>\n",
       "    <tr>\n",
       "      <th>1950s</th>\n",
       "      <td>'Chuck Berry'</td>\n",
       "      <td>Johnny B. Goode</td>\n",
       "      <td>74</td>\n",
       "    </tr>\n",
       "    <tr>\n",
       "      <th>1960s</th>\n",
       "      <td>'The Beatles'</td>\n",
       "      <td>Here Comes The Sun - Remastered 2009</td>\n",
       "      <td>83</td>\n",
       "    </tr>\n",
       "    <tr>\n",
       "      <th>1970s</th>\n",
       "      <td>'AC/DC'</td>\n",
       "      <td>Highway to Hell</td>\n",
       "      <td>83</td>\n",
       "    </tr>\n",
       "    <tr>\n",
       "      <th>1980s</th>\n",
       "      <td>'The Police'</td>\n",
       "      <td>Every Breath You Take</td>\n",
       "      <td>83</td>\n",
       "    </tr>\n",
       "    <tr>\n",
       "      <th>1990s</th>\n",
       "      <td>'Radiohead'</td>\n",
       "      <td>Creep</td>\n",
       "      <td>82</td>\n",
       "    </tr>\n",
       "    <tr>\n",
       "      <th>2000s</th>\n",
       "      <td>'Linkin Park'</td>\n",
       "      <td>In the End</td>\n",
       "      <td>83</td>\n",
       "    </tr>\n",
       "    <tr>\n",
       "      <th>2010s</th>\n",
       "      <td>'Roddy Ricch'</td>\n",
       "      <td>The Box</td>\n",
       "      <td>95</td>\n",
       "    </tr>\n",
       "    <tr>\n",
       "      <th>2020s</th>\n",
       "      <td>'The Weeknd'</td>\n",
       "      <td>Blinding Lights</td>\n",
       "      <td>100</td>\n",
       "    </tr>\n",
       "  </tbody>\n",
       "</table>\n",
       "</div>"
      ],
      "text/plain": [
       "                 artists                                            name  \\\n",
       "decade                                                                     \n",
       "1920s    'Benny Goodman'                                Sing, Sing, Sing   \n",
       "1930s   'Billie Holiday'  All of Me (with Eddie Heywood & His Orchestra)   \n",
       "1940s       'Erik Satie'                                Gymnopédie No. 1   \n",
       "1950s      'Chuck Berry'                                 Johnny B. Goode   \n",
       "1960s      'The Beatles'            Here Comes The Sun - Remastered 2009   \n",
       "1970s            'AC/DC'                                 Highway to Hell   \n",
       "1980s       'The Police'                           Every Breath You Take   \n",
       "1990s        'Radiohead'                                           Creep   \n",
       "2000s      'Linkin Park'                                      In the End   \n",
       "2010s      'Roddy Ricch'                                         The Box   \n",
       "2020s       'The Weeknd'                                 Blinding Lights   \n",
       "\n",
       "        popularity  \n",
       "decade              \n",
       "1920s           50  \n",
       "1930s           62  \n",
       "1940s           65  \n",
       "1950s           74  \n",
       "1960s           83  \n",
       "1970s           83  \n",
       "1980s           83  \n",
       "1990s           82  \n",
       "2000s           83  \n",
       "2010s           95  \n",
       "2020s          100  "
      ]
     },
     "execution_count": 18,
     "metadata": {},
     "output_type": "execute_result"
    }
   ],
   "source": [
    "feats = ['decade', 'artists', 'name', 'popularity']\n",
    "df[feats].sort_values(by = 'popularity', ascending = False).groupby('decade').first()"
   ]
  },
  {
   "cell_type": "markdown",
   "metadata": {},
   "source": [
    "Wow! This is very interesting. Evidently, these results make sense to me as even though I mostly listen to the popular songs of our current time, I know nearly all of the songs listed. That really is a testament to the timelessness of the most popular songs in history.\n",
    "\n",
    "Additionally, this confirms our previous result of the most popular song on Spotify being Blinding Lights - The Weeknd."
   ]
  },
  {
   "cell_type": "markdown",
   "metadata": {},
   "source": [
    "Lastly, let's take a look at how the features fared through the ages. For the purposes of scale, we will keep tempo separate from the rest of the features. I chose not to scale the values for the features as they are not directly comparable anyway. This will, however, give us an idea for how the features change over time.\n",
    "\n",
    "I also chose to exclude loudness as the values can become negative. We can also kind of base it off the energy feature anyway as the two are highly correlated."
   ]
  },
  {
   "cell_type": "code",
   "execution_count": 19,
   "metadata": {
    "scrolled": false
   },
   "outputs": [
    {
     "data": {
      "text/plain": [
       "Text(0, 0.5, 'Values')"
      ]
     },
     "execution_count": 19,
     "metadata": {},
     "output_type": "execute_result"
    },
    {
     "data": {
      "image/png": "[encoded data removed]",
      "text/plain": [
       "<Figure size 864x432 with 1 Axes>"
      ]
     },
     "metadata": {
      "needs_background": "light"
     },
     "output_type": "display_data"
    }
   ],
   "source": [
    "features = ['acousticness', 'danceability', 'energy', 'instrumentalness', 'liveness', \n",
    "            'speechiness', 'valence']\n",
    "plt.figure(figsize = (12, 6))\n",
    "sns.set(style = 'whitegrid')\n",
    "for feat in features:\n",
    "    feat_data = df.groupby('year')[feat].mean()\n",
    "    sns.lineplot(x = feat_data.index, y = feat_data, label = feat)\n",
    "plt.legend(loc = 'upper right')\n",
    "plt.ylabel('Values')"
   ]
  },
  {
   "cell_type": "markdown",
   "metadata": {},
   "source": [
    "It is clearly that there have been some dramatic changes for some features.\n",
    "\n",
    "1. Acousticness decreased drastically. This can be attributed to the rise in rap and rock music in recent times.\n",
    "\n",
    "2. Analagous to the previous point, energy also increased significantly. This makes sense as rap and rock music tend to be high energy.\n",
    "\n",
    "3. The other features have stayed somewhat consistent through the years, this makes sense as the features in question are as timeless as music itself"
   ]
  },
  {
   "cell_type": "code",
   "execution_count": 20,
   "metadata": {},
   "outputs": [
    {
     "data": {
      "text/plain": [
       "<matplotlib.axes._subplots.AxesSubplot at 0x1a66e4c2bc8>"
      ]
     },
     "execution_count": 20,
     "metadata": {},
     "output_type": "execute_result"
    },
    {
     "data": {
      "image/png": "[encoded data removed]",
      "text/plain": [
       "<Figure size 432x288 with 1 Axes>"
      ]
     },
     "metadata": {},
     "output_type": "display_data"
    }
   ],
   "source": [
    "sns.lineplot(x = df.groupby('year')['tempo'].mean().index, y = df.groupby('year')['tempo'].mean())"
   ]
  },
  {
   "cell_type": "markdown",
   "metadata": {},
   "source": [
    "We can see a dramatic increase in the tempo of music suddenly in the early 1920s, only to suddenly drop off soon after. We can also see a clear upwards trend in tempo as we get to more recent years. This also makes sense as music nowadays tend to be faster paced and higher energy."
   ]
  },
  {
   "cell_type": "markdown",
   "metadata": {},
   "source": [
    "# 2. Machine Learning"
   ]
  },
  {
   "cell_type": "markdown",
   "metadata": {},
   "source": [
    "Machine learning allows us to learn from user or song data and build models that predict other songs that a user might like. This type of machine learning system is known as a <b>recommender system</b>.\n",
    "\n",
    "Recommender systems are found everywhere, especially online. Many companies that provide personalized services such as Amazon, Facebook, Netflix, and Spotify use these systems to suggest what we might also want. They do this through the vast amounts of data on our shopping/watching/listening patterns and build models to predict what we could also like based on our behaviour."
   ]
  },
  {
   "cell_type": "markdown",
   "metadata": {},
   "source": [
    "## 2.1 Theory"
   ]
  },
  {
   "cell_type": "markdown",
   "metadata": {},
   "source": [
    "### 2.1.1 Overview"
   ]
  },
  {
   "cell_type": "markdown",
   "metadata": {},
   "source": [
    "<b>There are 2 common types of recommender systems.</b>\n",
    "\n",
    "1. Content-Based: Focuses on attributes of items (songs) and recommends based on similarity\n",
    "    - e.g. Term Frequency-Inverse Document Frequency (TF-IDF): Counting occurrences of words and Weighing the importance of words to calculate a score\n",
    "    - Less common\n",
    "2. Collaborative Filtering: Focuses on wisdom of the crowd, recommends based on other users\n",
    "    - Memory-based:\n",
    "        - user-item filtering:\n",
    "            - Recommends items based on likes of similar users (from similarity of rating) to current user\n",
    "            - \"Users who rate similar to you also liked...\"\n",
    "        - item-item filtering:\n",
    "            - Recommends items based on likes of similar users (from others who also liked current item) to current user\n",
    "            - \"Users who liked this item also liked...\"\n",
    "        - In both cases, 2 user-item matrices are built from the dataset\n",
    "            - Training matrix, Testing matrix (equal sizes)\n",
    "                - Training matrix will have a higher proportion of the total ratings\n",
    "    - Model-based:\n",
    "        - Matrix factorization:\n",
    "            - Preferences of a user can be determined by a small number of hidden factors\n",
    "            - Reduce dimensions and optimize\n",
    "        - Non-parametric:\n",
    "            - K-Nearest Neighbours (A type of machine learning algorithm)\n",
    "            - Unsupervised model\n",
    "            - K represents limit of number of similar users\n",
    "        - Deep Learning:\n",
    "            - Building neural nets with linear/non-linear layers"
   ]
  },
  {
   "cell_type": "markdown",
   "metadata": {},
   "source": [
    "## 2.2 Simple Correlation Model"
   ]
  },
  {
   "cell_type": "markdown",
   "metadata": {},
   "source": [
    "For our first model, let's use a pandas built-in functionality known as pandas.DataFrame.corrwith() to find the recommendations. \n",
    "\n",
    "How this works is, by calling the corrwith function on a DataFrame with all songs and the values of their features, we will be able to get a general correlation coefficient for each song. By then sorting the list by highest correlation, we can extract a list of most similar movies as recommendations."
   ]
  },
  {
   "cell_type": "markdown",
   "metadata": {},
   "source": [
    "### 2.2.1 DataFrame Cleaning and Building"
   ]
  },
  {
   "cell_type": "markdown",
   "metadata": {},
   "source": [
    "To do this, we will need to convert our DataFrame with all the data we read in to a DataFrame with all the songs as columns and features as rows. The data will then be each song's rating for each feature."
   ]
  },
  {
   "cell_type": "code",
   "execution_count": 22,
   "metadata": {},
   "outputs": [
    {
     "name": "stderr",
     "output_type": "stream",
     "text": [
      "C:\\ProgramData\\Anaconda3\\lib\\site-packages\\ipykernel_launcher.py:5: SettingWithCopyWarning: \n",
      "A value is trying to be set on a copy of a slice from a DataFrame.\n",
      "Try using .loc[row_indexer,col_indexer] = value instead\n",
      "\n",
      "See the caveats in the documentation: https://pandas.pydata.org/pandas-docs/stable/user_guide/indexing.html#returning-a-view-versus-a-copy\n",
      "  \"\"\"\n",
      "C:\\ProgramData\\Anaconda3\\lib\\site-packages\\ipykernel_launcher.py:6: SettingWithCopyWarning: \n",
      "A value is trying to be set on a copy of a slice from a DataFrame.\n",
      "Try using .loc[row_indexer,col_indexer] = value instead\n",
      "\n",
      "See the caveats in the documentation: https://pandas.pydata.org/pandas-docs/stable/user_guide/indexing.html#returning-a-view-versus-a-copy\n",
      "  \n",
      "C:\\ProgramData\\Anaconda3\\lib\\site-packages\\ipykernel_launcher.py:7: SettingWithCopyWarning: \n",
      "A value is trying to be set on a copy of a slice from a DataFrame.\n",
      "Try using .loc[row_indexer,col_indexer] = value instead\n",
      "\n",
      "See the caveats in the documentation: https://pandas.pydata.org/pandas-docs/stable/user_guide/indexing.html#returning-a-view-versus-a-copy\n",
      "  import sys\n",
      "C:\\ProgramData\\Anaconda3\\lib\\site-packages\\pandas\\core\\frame.py:3997: SettingWithCopyWarning: \n",
      "A value is trying to be set on a copy of a slice from a DataFrame\n",
      "\n",
      "See the caveats in the documentation: https://pandas.pydata.org/pandas-docs/stable/user_guide/indexing.html#returning-a-view-versus-a-copy\n",
      "  errors=errors,\n",
      "C:\\ProgramData\\Anaconda3\\lib\\site-packages\\ipykernel_launcher.py:16: SettingWithCopyWarning: \n",
      "A value is trying to be set on a copy of a slice from a DataFrame.\n",
      "Try using .loc[row_indexer,col_indexer] = value instead\n",
      "\n",
      "See the caveats in the documentation: https://pandas.pydata.org/pandas-docs/stable/user_guide/indexing.html#returning-a-view-versus-a-copy\n",
      "  app.launch_new_instance()\n"
     ]
    },
    {
     "data": {
      "text/html": [
       "<div>\n",
       "<style scoped>\n",
       "    .dataframe tbody tr th:only-of-type {\n",
       "        vertical-align: middle;\n",
       "    }\n",
       "\n",
       "    .dataframe tbody tr th {\n",
       "        vertical-align: top;\n",
       "    }\n",
       "\n",
       "    .dataframe thead th {\n",
       "        text-align: right;\n",
       "    }\n",
       "</style>\n",
       "<table border=\"1\" class=\"dataframe\">\n",
       "  <thead>\n",
       "    <tr style=\"text-align: right;\">\n",
       "      <th>name</th>\n",
       "      <th>Singende Bataillone 1. Teil - Carl Woitschach</th>\n",
       "      <th>Fantasiestücke, Op. 111: Più tosto lento - Robert Schumann, Vladimir Horowitz</th>\n",
       "      <th>Chapter 1.18 - Zamek kaniowski - Seweryn Goszczyński</th>\n",
       "      <th>Bebamos Juntos - Instrumental (Remasterizado) - Francisco Canaro</th>\n",
       "      <th>Polonaise-Fantaisie in A-Flat Major, Op. 61 - Frédéric Chopin, Vladimir Horowitz</th>\n",
       "      <th>Scherzo a capriccio: Presto - Felix Mendelssohn, Vladimir Horowitz</th>\n",
       "      <th>Valse oubliée No. 1 in F-Sharp Major, S. 215/1 - Franz Liszt, Vladimir Horowitz</th>\n",
       "      <th>Per aspera ad astra - Carl Woitschach</th>\n",
       "      <th>Moneda Corriente - Remasterizado - Francisco Canaro, Charlo</th>\n",
       "      <th>Chapter 1.3 - Zamek kaniowski - Seweryn Goszczyński</th>\n",
       "      <th>...</th>\n",
       "      <th>Wet Em Up Pt. 2 - Lil Tjay, Sheff G, Sleepy Hallow</th>\n",
       "      <th>Fine By Time - YoungBoy Never Broke Again</th>\n",
       "      <th>Rough Ryder - YoungBoy Never Broke Again</th>\n",
       "      <th>I Dare You - Kelly Clarkson</th>\n",
       "      <th>Letter To Nipsey (feat. Roddy Ricch) - Meek Mill, Roddy Ricch</th>\n",
       "      <th>Ojos De Maniaco - LEGADO 7, Junior H</th>\n",
       "      <th>Skechers (feat. Tyga) - Remix - DripReport, Tyga</th>\n",
       "      <th>Sweeter (feat. Terrace Martin) - Leon Bridges, Terrace Martin</th>\n",
       "      <th>How Would I Know - Kygo, Oh Wonder</th>\n",
       "      <th>I Found You - Cash Cash, Andy Grammer</th>\n",
       "    </tr>\n",
       "  </thead>\n",
       "  <tbody>\n",
       "    <tr>\n",
       "      <th>acousticness</th>\n",
       "      <td>0.995000</td>\n",
       "      <td>0.994000</td>\n",
       "      <td>0.604000</td>\n",
       "      <td>0.99500</td>\n",
       "      <td>0.990000</td>\n",
       "      <td>0.995000</td>\n",
       "      <td>0.956000</td>\n",
       "      <td>0.98800</td>\n",
       "      <td>0.995000</td>\n",
       "      <td>0.846000</td>\n",
       "      <td>...</td>\n",
       "      <td>0.027400</td>\n",
       "      <td>0.254000</td>\n",
       "      <td>0.371000</td>\n",
       "      <td>0.045200</td>\n",
       "      <td>0.264000</td>\n",
       "      <td>0.210000</td>\n",
       "      <td>0.173000</td>\n",
       "      <td>0.016700</td>\n",
       "      <td>0.538000</td>\n",
       "      <td>0.071400</td>\n",
       "    </tr>\n",
       "    <tr>\n",
       "      <th>danceability</th>\n",
       "      <td>0.708000</td>\n",
       "      <td>0.379000</td>\n",
       "      <td>0.749000</td>\n",
       "      <td>0.78100</td>\n",
       "      <td>0.210000</td>\n",
       "      <td>0.424000</td>\n",
       "      <td>0.444000</td>\n",
       "      <td>0.55500</td>\n",
       "      <td>0.683000</td>\n",
       "      <td>0.674000</td>\n",
       "      <td>...</td>\n",
       "      <td>0.701000</td>\n",
       "      <td>0.506000</td>\n",
       "      <td>0.623000</td>\n",
       "      <td>0.655000</td>\n",
       "      <td>0.744000</td>\n",
       "      <td>0.795000</td>\n",
       "      <td>0.875000</td>\n",
       "      <td>0.719000</td>\n",
       "      <td>0.514000</td>\n",
       "      <td>0.646000</td>\n",
       "    </tr>\n",
       "    <tr>\n",
       "      <th>energy</th>\n",
       "      <td>0.195000</td>\n",
       "      <td>0.013500</td>\n",
       "      <td>0.220000</td>\n",
       "      <td>0.13000</td>\n",
       "      <td>0.204000</td>\n",
       "      <td>0.120000</td>\n",
       "      <td>0.197000</td>\n",
       "      <td>0.42100</td>\n",
       "      <td>0.207000</td>\n",
       "      <td>0.205000</td>\n",
       "      <td>...</td>\n",
       "      <td>0.645000</td>\n",
       "      <td>0.787000</td>\n",
       "      <td>0.721000</td>\n",
       "      <td>0.719000</td>\n",
       "      <td>0.702000</td>\n",
       "      <td>0.585000</td>\n",
       "      <td>0.443000</td>\n",
       "      <td>0.385000</td>\n",
       "      <td>0.539000</td>\n",
       "      <td>0.761000</td>\n",
       "    </tr>\n",
       "    <tr>\n",
       "      <th>instrumentalness</th>\n",
       "      <td>0.563000</td>\n",
       "      <td>0.901000</td>\n",
       "      <td>0.000000</td>\n",
       "      <td>0.88700</td>\n",
       "      <td>0.908000</td>\n",
       "      <td>0.911000</td>\n",
       "      <td>0.435000</td>\n",
       "      <td>0.83600</td>\n",
       "      <td>0.206000</td>\n",
       "      <td>0.000000</td>\n",
       "      <td>...</td>\n",
       "      <td>0.000174</td>\n",
       "      <td>0.000000</td>\n",
       "      <td>0.000000</td>\n",
       "      <td>0.000018</td>\n",
       "      <td>0.000000</td>\n",
       "      <td>0.000001</td>\n",
       "      <td>0.000032</td>\n",
       "      <td>0.031300</td>\n",
       "      <td>0.002330</td>\n",
       "      <td>0.000000</td>\n",
       "    </tr>\n",
       "    <tr>\n",
       "      <th>speechiness</th>\n",
       "      <td>0.050600</td>\n",
       "      <td>0.046200</td>\n",
       "      <td>0.929000</td>\n",
       "      <td>0.09260</td>\n",
       "      <td>0.042400</td>\n",
       "      <td>0.059300</td>\n",
       "      <td>0.040000</td>\n",
       "      <td>0.04740</td>\n",
       "      <td>0.127000</td>\n",
       "      <td>0.954000</td>\n",
       "      <td>...</td>\n",
       "      <td>0.164000</td>\n",
       "      <td>0.161000</td>\n",
       "      <td>0.339000</td>\n",
       "      <td>0.036800</td>\n",
       "      <td>0.288000</td>\n",
       "      <td>0.037400</td>\n",
       "      <td>0.143000</td>\n",
       "      <td>0.040300</td>\n",
       "      <td>0.105000</td>\n",
       "      <td>0.038500</td>\n",
       "    </tr>\n",
       "    <tr>\n",
       "      <th>tempo</th>\n",
       "      <td>0.485348</td>\n",
       "      <td>0.344019</td>\n",
       "      <td>0.439086</td>\n",
       "      <td>0.44247</td>\n",
       "      <td>0.254614</td>\n",
       "      <td>0.260235</td>\n",
       "      <td>0.329775</td>\n",
       "      <td>0.50518</td>\n",
       "      <td>0.490936</td>\n",
       "      <td>0.332864</td>\n",
       "      <td>...</td>\n",
       "      <td>0.442274</td>\n",
       "      <td>0.409503</td>\n",
       "      <td>0.682684</td>\n",
       "      <td>0.508147</td>\n",
       "      <td>0.376437</td>\n",
       "      <td>0.399355</td>\n",
       "      <td>0.409732</td>\n",
       "      <td>0.524395</td>\n",
       "      <td>0.506778</td>\n",
       "      <td>0.532244</td>\n",
       "    </tr>\n",
       "    <tr>\n",
       "      <th>valence</th>\n",
       "      <td>0.779000</td>\n",
       "      <td>0.076700</td>\n",
       "      <td>0.880000</td>\n",
       "      <td>0.72000</td>\n",
       "      <td>0.069300</td>\n",
       "      <td>0.266000</td>\n",
       "      <td>0.305000</td>\n",
       "      <td>0.85700</td>\n",
       "      <td>0.493000</td>\n",
       "      <td>0.759000</td>\n",
       "      <td>...</td>\n",
       "      <td>0.576000</td>\n",
       "      <td>0.333000</td>\n",
       "      <td>0.719000</td>\n",
       "      <td>0.435000</td>\n",
       "      <td>0.338000</td>\n",
       "      <td>0.934000</td>\n",
       "      <td>0.306000</td>\n",
       "      <td>0.270000</td>\n",
       "      <td>0.153000</td>\n",
       "      <td>0.472000</td>\n",
       "    </tr>\n",
       "  </tbody>\n",
       "</table>\n",
       "<p>7 rows × 156608 columns</p>\n",
       "</div>"
      ],
      "text/plain": [
       "name              Singende Bataillone 1. Teil - Carl Woitschach  \\\n",
       "acousticness                                           0.995000   \n",
       "danceability                                           0.708000   \n",
       "energy                                                 0.195000   \n",
       "instrumentalness                                       0.563000   \n",
       "speechiness                                            0.050600   \n",
       "tempo                                                  0.485348   \n",
       "valence                                                0.779000   \n",
       "\n",
       "name              Fantasiestücke, Op. 111: Più tosto lento - Robert Schumann, Vladimir Horowitz  \\\n",
       "acousticness                                               0.994000                               \n",
       "danceability                                               0.379000                               \n",
       "energy                                                     0.013500                               \n",
       "instrumentalness                                           0.901000                               \n",
       "speechiness                                                0.046200                               \n",
       "tempo                                                      0.344019                               \n",
       "valence                                                    0.076700                               \n",
       "\n",
       "name              Chapter 1.18 - Zamek kaniowski - Seweryn Goszczyński  \\\n",
       "acousticness                                               0.604000      \n",
       "danceability                                               0.749000      \n",
       "energy                                                     0.220000      \n",
       "instrumentalness                                           0.000000      \n",
       "speechiness                                                0.929000      \n",
       "tempo                                                      0.439086      \n",
       "valence                                                    0.880000      \n",
       "\n",
       "name              Bebamos Juntos - Instrumental (Remasterizado) - Francisco Canaro  \\\n",
       "acousticness                                                0.99500                  \n",
       "danceability                                                0.78100                  \n",
       "energy                                                      0.13000                  \n",
       "instrumentalness                                            0.88700                  \n",
       "speechiness                                                 0.09260                  \n",
       "tempo                                                       0.44247                  \n",
       "valence                                                     0.72000                  \n",
       "\n",
       "name              Polonaise-Fantaisie in A-Flat Major, Op. 61 - Frédéric Chopin, Vladimir Horowitz  \\\n",
       "acousticness                                               0.990000                                  \n",
       "danceability                                               0.210000                                  \n",
       "energy                                                     0.204000                                  \n",
       "instrumentalness                                           0.908000                                  \n",
       "speechiness                                                0.042400                                  \n",
       "tempo                                                      0.254614                                  \n",
       "valence                                                    0.069300                                  \n",
       "\n",
       "name              Scherzo a capriccio: Presto - Felix Mendelssohn, Vladimir Horowitz  \\\n",
       "acousticness                                               0.995000                    \n",
       "danceability                                               0.424000                    \n",
       "energy                                                     0.120000                    \n",
       "instrumentalness                                           0.911000                    \n",
       "speechiness                                                0.059300                    \n",
       "tempo                                                      0.260235                    \n",
       "valence                                                    0.266000                    \n",
       "\n",
       "name              Valse oubliée No. 1 in F-Sharp Major, S. 215/1 - Franz Liszt, Vladimir Horowitz  \\\n",
       "acousticness                                               0.956000                                 \n",
       "danceability                                               0.444000                                 \n",
       "energy                                                     0.197000                                 \n",
       "instrumentalness                                           0.435000                                 \n",
       "speechiness                                                0.040000                                 \n",
       "tempo                                                      0.329775                                 \n",
       "valence                                                    0.305000                                 \n",
       "\n",
       "name              Per aspera ad astra - Carl Woitschach  \\\n",
       "acousticness                                    0.98800   \n",
       "danceability                                    0.55500   \n",
       "energy                                          0.42100   \n",
       "instrumentalness                                0.83600   \n",
       "speechiness                                     0.04740   \n",
       "tempo                                           0.50518   \n",
       "valence                                         0.85700   \n",
       "\n",
       "name              Moneda Corriente - Remasterizado - Francisco Canaro, Charlo  \\\n",
       "acousticness                                               0.995000             \n",
       "danceability                                               0.683000             \n",
       "energy                                                     0.207000             \n",
       "instrumentalness                                           0.206000             \n",
       "speechiness                                                0.127000             \n",
       "tempo                                                      0.490936             \n",
       "valence                                                    0.493000             \n",
       "\n",
       "name              Chapter 1.3 - Zamek kaniowski - Seweryn Goszczyński  ...  \\\n",
       "acousticness                                               0.846000    ...   \n",
       "danceability                                               0.674000    ...   \n",
       "energy                                                     0.205000    ...   \n",
       "instrumentalness                                           0.000000    ...   \n",
       "speechiness                                                0.954000    ...   \n",
       "tempo                                                      0.332864    ...   \n",
       "valence                                                    0.759000    ...   \n",
       "\n",
       "name              Wet Em Up Pt. 2 - Lil Tjay, Sheff G, Sleepy Hallow  \\\n",
       "acousticness                                               0.027400    \n",
       "danceability                                               0.701000    \n",
       "energy                                                     0.645000    \n",
       "instrumentalness                                           0.000174    \n",
       "speechiness                                                0.164000    \n",
       "tempo                                                      0.442274    \n",
       "valence                                                    0.576000    \n",
       "\n",
       "name              Fine By Time - YoungBoy Never Broke Again  \\\n",
       "acousticness                                       0.254000   \n",
       "danceability                                       0.506000   \n",
       "energy                                             0.787000   \n",
       "instrumentalness                                   0.000000   \n",
       "speechiness                                        0.161000   \n",
       "tempo                                              0.409503   \n",
       "valence                                            0.333000   \n",
       "\n",
       "name              Rough Ryder - YoungBoy Never Broke Again  \\\n",
       "acousticness                                      0.371000   \n",
       "danceability                                      0.623000   \n",
       "energy                                            0.721000   \n",
       "instrumentalness                                  0.000000   \n",
       "speechiness                                       0.339000   \n",
       "tempo                                             0.682684   \n",
       "valence                                           0.719000   \n",
       "\n",
       "name              I Dare You - Kelly Clarkson  \\\n",
       "acousticness                         0.045200   \n",
       "danceability                         0.655000   \n",
       "energy                               0.719000   \n",
       "instrumentalness                     0.000018   \n",
       "speechiness                          0.036800   \n",
       "tempo                                0.508147   \n",
       "valence                              0.435000   \n",
       "\n",
       "name              Letter To Nipsey (feat. Roddy Ricch) - Meek Mill, Roddy Ricch  \\\n",
       "acousticness                                               0.264000               \n",
       "danceability                                               0.744000               \n",
       "energy                                                     0.702000               \n",
       "instrumentalness                                           0.000000               \n",
       "speechiness                                                0.288000               \n",
       "tempo                                                      0.376437               \n",
       "valence                                                    0.338000               \n",
       "\n",
       "name              Ojos De Maniaco - LEGADO 7, Junior H  \\\n",
       "acousticness                                  0.210000   \n",
       "danceability                                  0.795000   \n",
       "energy                                        0.585000   \n",
       "instrumentalness                              0.000001   \n",
       "speechiness                                   0.037400   \n",
       "tempo                                         0.399355   \n",
       "valence                                       0.934000   \n",
       "\n",
       "name              Skechers (feat. Tyga) - Remix - DripReport, Tyga  \\\n",
       "acousticness                                              0.173000   \n",
       "danceability                                              0.875000   \n",
       "energy                                                    0.443000   \n",
       "instrumentalness                                          0.000032   \n",
       "speechiness                                               0.143000   \n",
       "tempo                                                     0.409732   \n",
       "valence                                                   0.306000   \n",
       "\n",
       "name              Sweeter (feat. Terrace Martin) - Leon Bridges, Terrace Martin  \\\n",
       "acousticness                                               0.016700               \n",
       "danceability                                               0.719000               \n",
       "energy                                                     0.385000               \n",
       "instrumentalness                                           0.031300               \n",
       "speechiness                                                0.040300               \n",
       "tempo                                                      0.524395               \n",
       "valence                                                    0.270000               \n",
       "\n",
       "name              How Would I Know - Kygo, Oh Wonder  \\\n",
       "acousticness                                0.538000   \n",
       "danceability                                0.514000   \n",
       "energy                                      0.539000   \n",
       "instrumentalness                            0.002330   \n",
       "speechiness                                 0.105000   \n",
       "tempo                                       0.506778   \n",
       "valence                                     0.153000   \n",
       "\n",
       "name              I Found You - Cash Cash, Andy Grammer  \n",
       "acousticness                                   0.071400  \n",
       "danceability                                   0.646000  \n",
       "energy                                         0.761000  \n",
       "instrumentalness                               0.000000  \n",
       "speechiness                                    0.038500  \n",
       "tempo                                          0.532244  \n",
       "valence                                        0.472000  \n",
       "\n",
       "[7 rows x 156608 columns]"
      ]
     },
     "execution_count": 22,
     "metadata": {},
     "output_type": "execute_result"
    }
   ],
   "source": [
    "df = pd.read_csv('data.csv')\n",
    "# Omitting unnecessary features\n",
    "ft = df[['name', 'artists', 'acousticness', 'danceability', 'energy', 'instrumentalness', 'speechiness', 'tempo', 'valence']]\n",
    "# Removing unnecessary clutter in artist names and combining song name with artist name\n",
    "ft['artists'] = ft['artists'].apply(lambda x: x[1:-1])\n",
    "ft['artists'] = ft['artists'].apply(lambda x: x.replace(\"'\", \"\"))\n",
    "ft['name'] = ft['name'] + ' - ' + ft['artists']\n",
    "ft.drop('artists', axis = 1, inplace = True)\n",
    "# Convert song and artist name from column to index\n",
    "ft.set_index('name', inplace = True)\n",
    "# Scale tempo data as other features are [0,1] while tempo is much higher than that\n",
    "scaler = MinMaxScaler()\n",
    "# The reshape here just makes the 1-D data into 2-D so that fit_transform can use it\n",
    "scaled = scaler.fit_transform(ft['tempo'].values.reshape(-1,1))\n",
    "# Replace old tempo data with scaled\n",
    "ft['tempo'] = scaled\n",
    "# Switch columns and indices so that features are indices and names are columns\n",
    "ft = ft.transpose()\n",
    "# Checks if columns names are duplicate and returns a boolean value of True if has appeared previously\n",
    "# We invert all the boolean values so that we can keep the first instance (previously False values)\n",
    "# Finally, use .loc to select non-duplicated columns\n",
    "ft = ft.loc[:,~ft.columns.duplicated()]\n",
    "ft"
   ]
  },
  {
   "cell_type": "markdown",
   "metadata": {},
   "source": [
    "### 2.2.2 Recommendation Function"
   ]
  },
  {
   "cell_type": "markdown",
   "metadata": {},
   "source": [
    "For the actual function, we will pass in 2 parameters: song title + artist name, and the DataFrame with all the data. \n",
    "\n",
    "The function will take the song and call the corrwith function on it to get the correlation coefficient between the song and all the other songs in the DataFrame. \n",
    "\n",
    "The newly generated table will consist of all songs and their correlation coefficient with the input song, and we will sort this table by descending order of correlation coefficients to get the most similar songs as recommendations."
   ]
  },
  {
   "cell_type": "code",
   "execution_count": 23,
   "metadata": {},
   "outputs": [],
   "source": [
    "def findRecommendations (title, df):\n",
    "    song = df[title]\n",
    "    similar_to_song = df.corrwith(song)\n",
    "    corr = pd.DataFrame(similar_to_song,columns=['Correlation'])\n",
    "    corr.dropna(inplace=True)\n",
    "    corr.sort_values('Correlation',ascending=False, inplace = True)\n",
    "    return corr[1:].head()"
   ]
  },
  {
   "cell_type": "markdown",
   "metadata": {},
   "source": [
    "### 2.2.3 Testing Recommendation System"
   ]
  },
  {
   "cell_type": "code",
   "execution_count": 27,
   "metadata": {},
   "outputs": [
    {
     "data": {
      "text/html": [
       "<div>\n",
       "<style scoped>\n",
       "    .dataframe tbody tr th:only-of-type {\n",
       "        vertical-align: middle;\n",
       "    }\n",
       "\n",
       "    .dataframe tbody tr th {\n",
       "        vertical-align: top;\n",
       "    }\n",
       "\n",
       "    .dataframe thead th {\n",
       "        text-align: right;\n",
       "    }\n",
       "</style>\n",
       "<table border=\"1\" class=\"dataframe\">\n",
       "  <thead>\n",
       "    <tr style=\"text-align: right;\">\n",
       "      <th></th>\n",
       "      <th>Correlation</th>\n",
       "    </tr>\n",
       "    <tr>\n",
       "      <th>name</th>\n",
       "      <th></th>\n",
       "    </tr>\n",
       "  </thead>\n",
       "  <tbody>\n",
       "    <tr>\n",
       "      <th>U and Dat (feat. T. Pain &amp; Kandi Girl) - E-40, T-Pain, Kandi Girl</th>\n",
       "      <td>0.998157</td>\n",
       "    </tr>\n",
       "    <tr>\n",
       "      <th>Couldn't Be A Better Playa - Lil Jon &amp; the Eastside Boyz Feat. T - Lil Jon &amp; The East Side Boyz</th>\n",
       "      <td>0.996460</td>\n",
       "    </tr>\n",
       "    <tr>\n",
       "      <th>Ya Digg - Frostydasnowmann</th>\n",
       "      <td>0.995754</td>\n",
       "    </tr>\n",
       "    <tr>\n",
       "      <th>The Big Payback - EPMD</th>\n",
       "      <td>0.995753</td>\n",
       "    </tr>\n",
       "    <tr>\n",
       "      <th>Boot It Up - Shoreline Mafia</th>\n",
       "      <td>0.995695</td>\n",
       "    </tr>\n",
       "  </tbody>\n",
       "</table>\n",
       "</div>"
      ],
      "text/plain": [
       "                                                    Correlation\n",
       "name                                                           \n",
       "U and Dat (feat. T. Pain & Kandi Girl) - E-40, ...     0.998157\n",
       "Couldn't Be A Better Playa - Lil Jon & the East...     0.996460\n",
       "Ya Digg - Frostydasnowmann                             0.995754\n",
       "The Big Payback - EPMD                                 0.995753\n",
       "Boot It Up - Shoreline Mafia                           0.995695"
      ]
     },
     "execution_count": 27,
     "metadata": {},
     "output_type": "execute_result"
    }
   ],
   "source": [
    "findRecommendations('I Love It (& Lil Pump) - Kanye West, Lil Pump', ft)"
   ]
  },
  {
   "cell_type": "code",
   "execution_count": 30,
   "metadata": {},
   "outputs": [
    {
     "data": {
      "text/html": [
       "<div>\n",
       "<style scoped>\n",
       "    .dataframe tbody tr th:only-of-type {\n",
       "        vertical-align: middle;\n",
       "    }\n",
       "\n",
       "    .dataframe tbody tr th {\n",
       "        vertical-align: top;\n",
       "    }\n",
       "\n",
       "    .dataframe thead th {\n",
       "        text-align: right;\n",
       "    }\n",
       "</style>\n",
       "<table border=\"1\" class=\"dataframe\">\n",
       "  <thead>\n",
       "    <tr style=\"text-align: right;\">\n",
       "      <th></th>\n",
       "      <th>Correlation</th>\n",
       "    </tr>\n",
       "    <tr>\n",
       "      <th>name</th>\n",
       "      <th></th>\n",
       "    </tr>\n",
       "  </thead>\n",
       "  <tbody>\n",
       "    <tr>\n",
       "      <th>Hafızın Kabri olan Bahçede - Münir Nurettin Selçuk</th>\n",
       "      <td>0.999772</td>\n",
       "    </tr>\n",
       "    <tr>\n",
       "      <th>Segments - Robert Farrugia</th>\n",
       "      <td>0.999353</td>\n",
       "    </tr>\n",
       "    <tr>\n",
       "      <th>The Nearness Of You - Jackie Gleason</th>\n",
       "      <td>0.999151</td>\n",
       "    </tr>\n",
       "    <tr>\n",
       "      <th>Addio, amore mio - Piero Piccioni</th>\n",
       "      <td>0.999105</td>\n",
       "    </tr>\n",
       "    <tr>\n",
       "      <th>Piano Sonata No. 21 in C Major, Op. 53 \"Waldstein\": I. Allegro con brio - Ludwig van Beethoven, Claudio Arrau</th>\n",
       "      <td>0.999049</td>\n",
       "    </tr>\n",
       "  </tbody>\n",
       "</table>\n",
       "</div>"
      ],
      "text/plain": [
       "                                                    Correlation\n",
       "name                                                           \n",
       "Hafızın Kabri olan Bahçede - Münir Nurettin Selçuk     0.999772\n",
       "Segments - Robert Farrugia                             0.999353\n",
       "The Nearness Of You - Jackie Gleason                   0.999151\n",
       "Addio, amore mio - Piero Piccioni                      0.999105\n",
       "Piano Sonata No. 21 in C Major, Op. 53 \"Waldste...     0.999049"
      ]
     },
     "execution_count": 30,
     "metadata": {},
     "output_type": "execute_result"
    }
   ],
   "source": [
    "findRecommendations('Polonaise-Fantaisie in A-Flat Major, Op. 61 - Frédéric Chopin, Vladimir Horowitz', ft)"
   ]
  },
  {
   "cell_type": "code",
   "execution_count": 70,
   "metadata": {},
   "outputs": [
    {
     "data": {
      "text/html": [
       "<div>\n",
       "<style scoped>\n",
       "    .dataframe tbody tr th:only-of-type {\n",
       "        vertical-align: middle;\n",
       "    }\n",
       "\n",
       "    .dataframe tbody tr th {\n",
       "        vertical-align: top;\n",
       "    }\n",
       "\n",
       "    .dataframe thead th {\n",
       "        text-align: right;\n",
       "    }\n",
       "</style>\n",
       "<table border=\"1\" class=\"dataframe\">\n",
       "  <thead>\n",
       "    <tr style=\"text-align: right;\">\n",
       "      <th></th>\n",
       "      <th>Correlation</th>\n",
       "    </tr>\n",
       "    <tr>\n",
       "      <th>name</th>\n",
       "      <th></th>\n",
       "    </tr>\n",
       "  </thead>\n",
       "  <tbody>\n",
       "    <tr>\n",
       "      <th>最後的戰役 - Jay Chou</th>\n",
       "      <td>0.999724</td>\n",
       "    </tr>\n",
       "    <tr>\n",
       "      <th>Gonna Get Ya - Pete Townshend</th>\n",
       "      <td>0.999720</td>\n",
       "    </tr>\n",
       "    <tr>\n",
       "      <th>Mystify - INXS</th>\n",
       "      <td>0.999593</td>\n",
       "    </tr>\n",
       "    <tr>\n",
       "      <th>Red Rain - 2012 Remaster - Peter Gabriel</th>\n",
       "      <td>0.999546</td>\n",
       "    </tr>\n",
       "    <tr>\n",
       "      <th>Wherever You Will Go - The Calling</th>\n",
       "      <td>0.999540</td>\n",
       "    </tr>\n",
       "  </tbody>\n",
       "</table>\n",
       "</div>"
      ],
      "text/plain": [
       "                                          Correlation\n",
       "name                                                 \n",
       "最後的戰役 - Jay Chou                             0.999724\n",
       "Gonna Get Ya - Pete Townshend                0.999720\n",
       "Mystify - INXS                               0.999593\n",
       "Red Rain - 2012 Remaster - Peter Gabriel     0.999546\n",
       "Wherever You Will Go - The Calling           0.999540"
      ]
     },
     "execution_count": 70,
     "metadata": {},
     "output_type": "execute_result"
    }
   ],
   "source": [
    "findRecommendations('Sweater Weather - The Neighbourhood', ft)"
   ]
  },
  {
   "cell_type": "markdown",
   "metadata": {},
   "source": [
    "### 2.2.4 Observations and Insights"
   ]
  },
  {
   "cell_type": "markdown",
   "metadata": {},
   "source": [
    "After comparing the input song with the recommended songs by ear, I noticed distinct patterns that emerged such as similar tempo and sound. The cool thing I noticed was that this system doesn't care about where the music is from, whether it's Western or Asian as you can see above. As long as the metrics are similar, they will be recommended. \n",
    "\n",
    "This made me realize that music is without borders. Songs from completely different backgrounds and cultures can often have similar features that one might not notice just from seeing the titles and artists. \n",
    "\n",
    "This project not only showed what is possible with data science and recommendations, but also gave me some perspective on music itself which has nothing to do with analysis. I will definitely be listening to more international and older music now that I realize that one's musical tastes are not bounded by region/culture, nor time itself."
   ]
  },
  {
   "cell_type": "code",
   "execution_count": 72,
   "metadata": {},
   "outputs": [],
   "source": [
    "# To be continued with more complicated models that utilize machine learning"
   ]
  },
  {
   "cell_type": "code",
   "execution_count": null,
   "metadata": {},
   "outputs": [],
   "source": []
  }
 ],
 "metadata": {
  "kernelspec": {
   "display_name": "Python 3",
   "language": "python",
   "name": "python3"
  },
  "language_info": {
   "codemirror_mode": {
    "name": "ipython",
    "version": 3
   },
   "file_extension": ".py",
   "mimetype": "text/x-python",
   "name": "python",
   "nbconvert_exporter": "python",
   "pygments_lexer": "ipython3",
   "version": "3.7.6"
  }
 },
 "nbformat": 4,
 "nbformat_minor": 4
}
